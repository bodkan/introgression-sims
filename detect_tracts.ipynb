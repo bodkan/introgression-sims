{
 "cells": [
  {
   "cell_type": "markdown",
   "metadata": {},
   "source": [
    "# Detecting true introgressed tracts from simulated tree sequences\n",
    "\n",
    "This notebook works on a tree sequence file saved by a [slendr](http://www.slendr.net) simulation framework from a model defined in `introgression.Rmd`."
   ]
  },
  {
   "cell_type": "code",
   "execution_count": 1,
   "metadata": {},
   "outputs": [],
   "source": [
    "trees_file = \"results/output_ts.trees\""
   ]
  },
  {
   "cell_type": "code",
   "execution_count": 2,
   "metadata": {},
   "outputs": [],
   "source": [
    "import random\n",
    "from itertools import chain\n",
    "from collections import defaultdict\n",
    "\n",
    "import tskit\n",
    "import pyslim\n",
    "import pandas\n",
    "import numpy\n",
    "import matplotlib.pyplot as plt\n",
    "import tqdm.notebook\n",
    "from IPython.display import display, SVG\n",
    "\n",
    "random.seed(314159265)"
   ]
  },
  {
   "cell_type": "code",
   "execution_count": 3,
   "metadata": {},
   "outputs": [],
   "source": [
    "populations = pandas.read_table(\"model/populations.tsv\")"
   ]
  },
  {
   "cell_type": "markdown",
   "metadata": {},
   "source": [
    "Load the complete tree sequence output:"
   ]
  },
  {
   "cell_type": "code",
   "execution_count": 4,
   "metadata": {},
   "outputs": [
    {
     "data": {
      "text/html": [
       "\n",
       "            <div>\n",
       "              <style>\n",
       "                .tskit-table thead tr th {text-align: left;padding: 0.5em 0.5em;}\n",
       "                .tskit-table tbody tr td {padding: 0.5em 0.5em;}\n",
       "                .tskit-table tbody tr td:first-of-type {text-align: left;}\n",
       "                .tskit-details-label {vertical-align: top; padding-right:5px;}\n",
       "                .tskit-table-set {display: inline-flex;flex-wrap: wrap;margin: -12px 0 0 -12px;width: calc(100% + 12px);}\n",
       "                .tskit-table-set-table {margin: 12px 0 0 12px;}\n",
       "                details {display: inline-block;}\n",
       "                summary {cursor: pointer; outline: 0; display: list-item;}\n",
       "              </style>\n",
       "              <div class=\"tskit-table-set\">\n",
       "                <div class=\"tskit-table-set-table\">\n",
       "                  <table class=\"tskit-table\">\n",
       "                    <thead>\n",
       "                      <tr>\n",
       "                        <th style=\"padding:0;line-height:21px;\">\n",
       "                          <img style=\"height: 32px;display: inline-block;padding: 3px 5px 3px 0;\" src=\"https://raw.githubusercontent.com/tskit-dev/administrative/main/tskit_logo.svg\"/>\n",
       "                          <a target=\"_blank\" href=\"https://tskit.readthedocs.io/en/latest/python-api.html#the-treesequence-class\"> Tree Sequence </a>\n",
       "                        </th>\n",
       "                      </tr>\n",
       "                    </thead>\n",
       "                    <tbody>\n",
       "                      <tr><td>Trees</td><td>729816</td></tr>\n",
       "                      <tr><td>Sequence Length</td><td>100000000.0</td></tr>\n",
       "                      <tr><td>Sample Nodes</td><td>40160</td></tr>\n",
       "                      <tr><td>Total Size</td><td>135.6 MiB</td></tr>\n",
       "                      <tr>\n",
       "                        <td>Metadata</td><td style=\"text-align: left;\">\n",
       "                <div>\n",
       "                  <span class=\"tskit-details-label\"></span>\n",
       "                  <details open>\n",
       "                    <summary>dict</summary>\n",
       "                    \n",
       "                <div>\n",
       "                  <span class=\"tskit-details-label\">SLiM:</span>\n",
       "                  <details >\n",
       "                    <summary>dict</summary>\n",
       "                    file_version: 0.6<br/>generation: 20001<br/>model_type: WF<br/>nucleotide_based: False<br/>separate_sexes: False<br/>spatial_dimensionality: <br/>spatial_periodicity: <br/>stage: late<br/>\n",
       "                <div>\n",
       "                  <span class=\"tskit-details-label\">user_metadata:</span>\n",
       "                  <details >\n",
       "                    <summary>dict</summary>\n",
       "                    \n",
       "                <div>\n",
       "                  <span class=\"tskit-details-label\">slendr:</span>\n",
       "                  <details >\n",
       "                    <summary>list</summary>\n",
       "                    \n",
       "                <div>\n",
       "                  <span class=\"tskit-details-label\"></span>\n",
       "                  <details >\n",
       "                    <summary>dict</summary>\n",
       "                    \n",
       "                <div>\n",
       "                  <span class=\"tskit-details-label\">arguments:</span>\n",
       "                  <details >\n",
       "                    <summary>list</summary>\n",
       "                    \n",
       "                <div>\n",
       "                  <span class=\"tskit-details-label\"></span>\n",
       "                  <details >\n",
       "                    <summary>dict</summary>\n",
       "                    \n",
       "                <div>\n",
       "                  <span class=\"tskit-details-label\">BURNIN_LENGTH:</span>\n",
       "                  <details >\n",
       "                    <summary>list</summary>\n",
       "                     0<br/>\n",
       "                  </details>\n",
       "                </div>\n",
       "                <br/>\n",
       "                <div>\n",
       "                  <span class=\"tskit-details-label\">MAX_ATTEMPTS:</span>\n",
       "                  <details >\n",
       "                    <summary>list</summary>\n",
       "                     10<br/>\n",
       "                  </details>\n",
       "                </div>\n",
       "                <br/>\n",
       "                <div>\n",
       "                  <span class=\"tskit-details-label\">RECOMB_RATE:</span>\n",
       "                  <details >\n",
       "                    <summary>list</summary>\n",
       "                     1e-08<br/>\n",
       "                  </details>\n",
       "                </div>\n",
       "                <br/>\n",
       "                <div>\n",
       "                  <span class=\"tskit-details-label\">SEED:</span>\n",
       "                  <details >\n",
       "                    <summary>list</summary>\n",
       "                     314159265<br/>\n",
       "                  </details>\n",
       "                </div>\n",
       "                <br/>\n",
       "                <div>\n",
       "                  <span class=\"tskit-details-label\">SEQUENCE_LENGTH:</span>\n",
       "                  <details >\n",
       "                    <summary>list</summary>\n",
       "                     100000000<br/>\n",
       "                  </details>\n",
       "                </div>\n",
       "                <br/>\n",
       "                <div>\n",
       "                  <span class=\"tskit-details-label\">SIMULATION_LENGTH:</span>\n",
       "                  <details >\n",
       "                    <summary>list</summary>\n",
       "                     20000<br/>\n",
       "                  </details>\n",
       "                </div>\n",
       "                <br/>\n",
       "                  </details>\n",
       "                </div>\n",
       "                <br/>\n",
       "                  </details>\n",
       "                </div>\n",
       "                <br/>\n",
       "                <div>\n",
       "                  <span class=\"tskit-details-label\">backend:</span>\n",
       "                  <details >\n",
       "                    <summary>list</summary>\n",
       "                     SLiM<br/>\n",
       "                  </details>\n",
       "                </div>\n",
       "                <br/>\n",
       "                <div>\n",
       "                  <span class=\"tskit-details-label\">description:</span>\n",
       "                  <details >\n",
       "                    <summary>list</summary>\n",
       "                     <br/>\n",
       "                  </details>\n",
       "                </div>\n",
       "                <br/>\n",
       "                <div>\n",
       "                  <span class=\"tskit-details-label\">sampling:</span>\n",
       "                  <details >\n",
       "                    <summary>list</summary>\n",
       "                    \n",
       "                <div>\n",
       "                  <span class=\"tskit-details-label\"></span>\n",
       "                  <details >\n",
       "                    <summary>dict</summary>\n",
       "                    \n",
       "                <div>\n",
       "                  <span class=\"tskit-details-label\">n:</span>\n",
       "                  <details >\n",
       "                    <summary>list</summary>\n",
       "                     1.0<br/> 1.0<br/> 1.0<br/> 1.0<br/> 1.0<br/> 1.0<br/> 1.0<br/> 1.0<br/> 1.0<br/> 1.0<br/> 1.0<br/> 1.0<br/> 1.0<br/> 1.0<br/> 1.0<br/> 1.0<br/> 1.0<br/> 1.0<br/> 1.0<br/> 1.0<br/> 1.0<br/> 1.0<br/> 1.0<br/> 1.0<br/> 1.0<br/> 1.0<br/> 1.0<br/> 1.0<br/> 1.0<br/> 1.0<br/> 1.0<br/> 1.0<br/> 1.0<br/> 1.0<br/> 1.0<br/> 1.0<br/> 1.0<br/> 1.0<br/> 1.0<br/> 1.0<br/> 1.0<br/> 1.0<br/> 1.0<br/> 1.0<br/> 1.0<br/> 1.0<br/> 1.0<br/> 1.0<br/> 1.0<br/> 1.0<br/> 1.0<br/> 1.0<br/> 1.0<br/> 1.0<br/> 1.0<br/> 1.0<br/> 1.0<br/> 1.0<br/> 1.0<br/> 1.0<br/> 1.0<br/> 1.0<br/> 1.0<br/> 1.0<br/> 1.0<br/> 1.0<br/> 1.0<br/> 1.0<br/> 1.0<br/> 1.0<br/> 1.0<br/> 1.0<br/> 1.0<br/> 1.0<br/> 1.0<br/> 1.0<br/> 1.0<br/> 1.0<br/> 1.0<br/> 1.0<br/> 300.0<br/> 100.0<br/> 100.0<br/>\n",
       "                  </details>\n",
       "                </div>\n",
       "                <br/>\n",
       "                <div>\n",
       "                  <span class=\"tskit-details-label\">pop:</span>\n",
       "                  <details >\n",
       "                    <summary>list</summary>\n",
       "                     NEA<br/> EUR1<br/> EUR2<br/> NEA<br/> EUR1<br/> EUR2<br/> EUR1<br/> EUR2<br/> EUR1<br/> EUR2<br/> EUR1<br/> EUR2<br/> EUR1<br/> EUR2<br/> EUR1<br/> EUR2<br/> EUR1<br/> EUR2<br/> EUR1<br/> EUR2<br/> EUR1<br/> EUR2<br/> EUR1<br/> EUR2<br/> EUR1<br/> EUR2<br/> EUR1<br/> EUR2<br/> EUR1<br/> EUR2<br/> EUR1<br/> EUR2<br/> EUR1<br/> EUR2<br/> EUR1<br/> EUR2<br/> EUR1<br/> EUR2<br/> EUR1<br/> EUR2<br/> EUR1<br/> EUR2<br/> EUR1<br/> EUR2<br/> EUR1<br/> EUR2<br/> EUR1<br/> EUR2<br/> EUR1<br/> EUR2<br/> EUR1<br/> EUR2<br/> EUR1<br/> EUR2<br/> EUR1<br/> EUR2<br/> EUR1<br/> EUR2<br/> EUR1<br/> EUR2<br/> EUR1<br/> EUR2<br/> EUR1<br/> EUR2<br/> EUR1<br/> EUR2<br/> EUR1<br/> EUR2<br/> EUR1<br/> EUR2<br/> EUR1<br/> EUR2<br/> EUR1<br/> EUR2<br/> EUR1<br/> EUR2<br/> EUR1<br/> EUR2<br/> EUR1<br/> EUR2<br/> AFR<br/> EUR1<br/> EUR2<br/>\n",
       "                  </details>\n",
       "                </div>\n",
       "                <br/>\n",
       "                <div>\n",
       "                  <span class=\"tskit-details-label\">time_gen:</span>\n",
       "                  <details >\n",
       "                    <summary>list</summary>\n",
       "                     17668<br/> 18668<br/> 18668<br/> 18668<br/> 18701<br/> 18701<br/> 18734<br/> 18734<br/> 18768<br/> 18768<br/> 18801<br/> 18801<br/> 18834<br/> 18834<br/> 18868<br/> 18868<br/> 18901<br/> 18901<br/> 18934<br/> 18934<br/> 18968<br/> 18968<br/> 19001<br/> 19001<br/> 19034<br/> 19034<br/> 19068<br/> 19068<br/> 19101<br/> 19101<br/> 19134<br/> 19134<br/> 19168<br/> 19168<br/> 19201<br/> 19201<br/> 19234<br/> 19234<br/> 19268<br/> 19268<br/> 19301<br/> 19301<br/> 19334<br/> 19334<br/> 19368<br/> 19368<br/> 19401<br/> 19401<br/> 19434<br/> 19434<br/> 19468<br/> 19468<br/> 19501<br/> 19501<br/> 19534<br/> 19534<br/> 19568<br/> 19568<br/> 19601<br/> 19601<br/> 19634<br/> 19634<br/> 19668<br/> 19668<br/> 19701<br/> 19701<br/> 19734<br/> 19734<br/> 19768<br/> 19768<br/> 19801<br/> 19801<br/> 19834<br/> 19834<br/> 19868<br/> 19868<br/> 19901<br/> 19901<br/> 19934<br/> 19934<br/> 20001<br/> 20001<br/> 20001<br/>\n",
       "                  </details>\n",
       "                </div>\n",
       "                <br/>\n",
       "                <div>\n",
       "                  <span class=\"tskit-details-label\">time_orig:</span>\n",
       "                  <details >\n",
       "                    <summary>list</summary>\n",
       "                     70000<br/> 40000<br/> 40000<br/> 40000<br/> 39000<br/> 39000<br/> 38000<br/> 38000<br/> 37000<br/> 37000<br/> 36000<br/> 36000<br/> 35000<br/> 35000<br/> 34000<br/> 34000<br/> 33000<br/> 33000<br/> 32000<br/> 32000<br/> 31000<br/> 31000<br/> 30000<br/> 30000<br/> 29000<br/> 29000<br/> 28000<br/> 28000<br/> 27000<br/> 27000<br/> 26000<br/> 26000<br/> 25000<br/> 25000<br/> 24000<br/> 24000<br/> 23000<br/> 23000<br/> 22000<br/> 22000<br/> 21000<br/> 21000<br/> 20000<br/> 20000<br/> 19000<br/> 19000<br/> 18000<br/> 18000<br/> 17000<br/> 17000<br/> 16000<br/> 16000<br/> 15000<br/> 15000<br/> 14000<br/> 14000<br/> 13000<br/> 13000<br/> 12000<br/> 12000<br/> 11000<br/> 11000<br/> 10000<br/> 10000<br/> 9000<br/> 9000<br/> 8000<br/> 8000<br/> 7000<br/> 7000<br/> 6000<br/> 6000<br/> 5000<br/> 5000<br/> 4000<br/> 4000<br/> 3000<br/> 3000<br/> 2000<br/> 2000<br/> 0<br/> 0<br/> 0<br/>\n",
       "                  </details>\n",
       "                </div>\n",
       "                <br/>\n",
       "                  </details>\n",
       "                </div>\n",
       "                <br/>\n",
       "                  </details>\n",
       "                </div>\n",
       "                <br/>\n",
       "                <div>\n",
       "                  <span class=\"tskit-details-label\">version:</span>\n",
       "                  <details >\n",
       "                    <summary>list</summary>\n",
       "                     slendr_0.0.0.9000<br/>\n",
       "                  </details>\n",
       "                </div>\n",
       "                <br/>\n",
       "                  </details>\n",
       "                </div>\n",
       "                <br/>\n",
       "                  </details>\n",
       "                </div>\n",
       "                <br/>\n",
       "                  </details>\n",
       "                </div>\n",
       "                <br/>\n",
       "                  </details>\n",
       "                </div>\n",
       "                <br/>\n",
       "                  </details>\n",
       "                </div>\n",
       "                </td></tr>\n",
       "                    </tbody>\n",
       "                  </table>\n",
       "                </div>\n",
       "                <div class=\"tskit-table-set-table\">\n",
       "                  <table class=\"tskit-table\">\n",
       "                    <thead>\n",
       "                      <tr>\n",
       "                        <th style=\"line-height:21px;\">Table</th>\n",
       "                        <th>Rows</th>\n",
       "                        <th>Size</th>\n",
       "                        <th>Has Metadata</th>\n",
       "                      </tr>\n",
       "                    </thead>\n",
       "                    <tbody>\n",
       "                    \n",
       "                  <tr>\n",
       "                    <td>Edges</td>\n",
       "                      <td>2820519</td>\n",
       "                      <td>75.3 MiB</td>\n",
       "                      <td style=\"text-align: center;\">\n",
       "                        \n",
       "                      </td>\n",
       "                    </tr>\n",
       "                \n",
       "                  <tr>\n",
       "                    <td>Individuals</td>\n",
       "                      <td>397068</td>\n",
       "                      <td>24.2 MiB</td>\n",
       "                      <td style=\"text-align: center;\">\n",
       "                        ✅\n",
       "                      </td>\n",
       "                    </tr>\n",
       "                \n",
       "                  <tr>\n",
       "                    <td>Migrations</td>\n",
       "                      <td>0</td>\n",
       "                      <td>4 Bytes</td>\n",
       "                      <td style=\"text-align: center;\">\n",
       "                        \n",
       "                      </td>\n",
       "                    </tr>\n",
       "                \n",
       "                  <tr>\n",
       "                    <td>Mutations</td>\n",
       "                      <td>0</td>\n",
       "                      <td>1.2 KiB</td>\n",
       "                      <td style=\"text-align: center;\">\n",
       "                        \n",
       "                      </td>\n",
       "                    </tr>\n",
       "                \n",
       "                  <tr>\n",
       "                    <td>Nodes</td>\n",
       "                      <td>446400</td>\n",
       "                      <td>14.5 MiB</td>\n",
       "                      <td style=\"text-align: center;\">\n",
       "                        ✅\n",
       "                      </td>\n",
       "                    </tr>\n",
       "                \n",
       "                  <tr>\n",
       "                    <td>Populations</td>\n",
       "                      <td>4</td>\n",
       "                      <td>3.1 KiB</td>\n",
       "                      <td style=\"text-align: center;\">\n",
       "                        ✅\n",
       "                      </td>\n",
       "                    </tr>\n",
       "                \n",
       "                  <tr>\n",
       "                    <td>Provenances</td>\n",
       "                      <td>1</td>\n",
       "                      <td>29.2 KiB</td>\n",
       "                      <td style=\"text-align: center;\">\n",
       "                        \n",
       "                      </td>\n",
       "                    </tr>\n",
       "                \n",
       "                  <tr>\n",
       "                    <td>Sites</td>\n",
       "                      <td>0</td>\n",
       "                      <td>8 Bytes</td>\n",
       "                      <td style=\"text-align: center;\">\n",
       "                        \n",
       "                      </td>\n",
       "                    </tr>\n",
       "                \n",
       "                    </tbody>\n",
       "                  </table>\n",
       "                </div>\n",
       "              </div>\n",
       "            </div>\n",
       "            "
      ],
      "text/plain": [
       "<pyslim.slim_tree_sequence.SlimTreeSequence at 0x7f8ade342d60>"
      ]
     },
     "execution_count": 4,
     "metadata": {},
     "output_type": "execute_result"
    }
   ],
   "source": [
    "ts = pyslim.load(trees_file)\n",
    "ts"
   ]
  },
  {
   "cell_type": "markdown",
   "metadata": {},
   "source": [
    "Get nodes (chromosomes) of remembered individuals and simplify the tree sequence only to those nodes to make it simpler:"
   ]
  },
  {
   "cell_type": "code",
   "execution_count": 5,
   "metadata": {},
   "outputs": [
    {
     "data": {
      "text/html": [
       "\n",
       "            <div>\n",
       "              <style>\n",
       "                .tskit-table thead tr th {text-align: left;padding: 0.5em 0.5em;}\n",
       "                .tskit-table tbody tr td {padding: 0.5em 0.5em;}\n",
       "                .tskit-table tbody tr td:first-of-type {text-align: left;}\n",
       "                .tskit-details-label {vertical-align: top; padding-right:5px;}\n",
       "                .tskit-table-set {display: inline-flex;flex-wrap: wrap;margin: -12px 0 0 -12px;width: calc(100% + 12px);}\n",
       "                .tskit-table-set-table {margin: 12px 0 0 12px;}\n",
       "                details {display: inline-block;}\n",
       "                summary {cursor: pointer; outline: 0; display: list-item;}\n",
       "              </style>\n",
       "              <div class=\"tskit-table-set\">\n",
       "                <div class=\"tskit-table-set-table\">\n",
       "                  <table class=\"tskit-table\">\n",
       "                    <thead>\n",
       "                      <tr>\n",
       "                        <th style=\"padding:0;line-height:21px;\">\n",
       "                          <img style=\"height: 32px;display: inline-block;padding: 3px 5px 3px 0;\" src=\"https://raw.githubusercontent.com/tskit-dev/administrative/main/tskit_logo.svg\"/>\n",
       "                          <a target=\"_blank\" href=\"https://tskit.readthedocs.io/en/latest/python-api.html#the-treesequence-class\"> Tree Sequence </a>\n",
       "                        </th>\n",
       "                      </tr>\n",
       "                    </thead>\n",
       "                    <tbody>\n",
       "                      <tr><td>Trees</td><td>421237</td></tr>\n",
       "                      <tr><td>Sequence Length</td><td>100000000.0</td></tr>\n",
       "                      <tr><td>Sample Nodes</td><td>1160</td></tr>\n",
       "                      <tr><td>Total Size</td><td>76.4 MiB</td></tr>\n",
       "                      <tr>\n",
       "                        <td>Metadata</td><td style=\"text-align: left;\">\n",
       "                <div>\n",
       "                  <span class=\"tskit-details-label\"></span>\n",
       "                  <details open>\n",
       "                    <summary>dict</summary>\n",
       "                    \n",
       "                <div>\n",
       "                  <span class=\"tskit-details-label\">SLiM:</span>\n",
       "                  <details >\n",
       "                    <summary>dict</summary>\n",
       "                    file_version: 0.6<br/>generation: 20001<br/>model_type: WF<br/>nucleotide_based: False<br/>separate_sexes: False<br/>spatial_dimensionality: <br/>spatial_periodicity: <br/>stage: late<br/>\n",
       "                <div>\n",
       "                  <span class=\"tskit-details-label\">user_metadata:</span>\n",
       "                  <details >\n",
       "                    <summary>dict</summary>\n",
       "                    \n",
       "                <div>\n",
       "                  <span class=\"tskit-details-label\">slendr:</span>\n",
       "                  <details >\n",
       "                    <summary>list</summary>\n",
       "                    \n",
       "                <div>\n",
       "                  <span class=\"tskit-details-label\"></span>\n",
       "                  <details >\n",
       "                    <summary>dict</summary>\n",
       "                    \n",
       "                <div>\n",
       "                  <span class=\"tskit-details-label\">arguments:</span>\n",
       "                  <details >\n",
       "                    <summary>list</summary>\n",
       "                    \n",
       "                <div>\n",
       "                  <span class=\"tskit-details-label\"></span>\n",
       "                  <details >\n",
       "                    <summary>dict</summary>\n",
       "                    \n",
       "                <div>\n",
       "                  <span class=\"tskit-details-label\">BURNIN_LENGTH:</span>\n",
       "                  <details >\n",
       "                    <summary>list</summary>\n",
       "                     0<br/>\n",
       "                  </details>\n",
       "                </div>\n",
       "                <br/>\n",
       "                <div>\n",
       "                  <span class=\"tskit-details-label\">MAX_ATTEMPTS:</span>\n",
       "                  <details >\n",
       "                    <summary>list</summary>\n",
       "                     10<br/>\n",
       "                  </details>\n",
       "                </div>\n",
       "                <br/>\n",
       "                <div>\n",
       "                  <span class=\"tskit-details-label\">RECOMB_RATE:</span>\n",
       "                  <details >\n",
       "                    <summary>list</summary>\n",
       "                     1e-08<br/>\n",
       "                  </details>\n",
       "                </div>\n",
       "                <br/>\n",
       "                <div>\n",
       "                  <span class=\"tskit-details-label\">SEED:</span>\n",
       "                  <details >\n",
       "                    <summary>list</summary>\n",
       "                     314159265<br/>\n",
       "                  </details>\n",
       "                </div>\n",
       "                <br/>\n",
       "                <div>\n",
       "                  <span class=\"tskit-details-label\">SEQUENCE_LENGTH:</span>\n",
       "                  <details >\n",
       "                    <summary>list</summary>\n",
       "                     100000000<br/>\n",
       "                  </details>\n",
       "                </div>\n",
       "                <br/>\n",
       "                <div>\n",
       "                  <span class=\"tskit-details-label\">SIMULATION_LENGTH:</span>\n",
       "                  <details >\n",
       "                    <summary>list</summary>\n",
       "                     20000<br/>\n",
       "                  </details>\n",
       "                </div>\n",
       "                <br/>\n",
       "                  </details>\n",
       "                </div>\n",
       "                <br/>\n",
       "                  </details>\n",
       "                </div>\n",
       "                <br/>\n",
       "                <div>\n",
       "                  <span class=\"tskit-details-label\">backend:</span>\n",
       "                  <details >\n",
       "                    <summary>list</summary>\n",
       "                     SLiM<br/>\n",
       "                  </details>\n",
       "                </div>\n",
       "                <br/>\n",
       "                <div>\n",
       "                  <span class=\"tskit-details-label\">description:</span>\n",
       "                  <details >\n",
       "                    <summary>list</summary>\n",
       "                     <br/>\n",
       "                  </details>\n",
       "                </div>\n",
       "                <br/>\n",
       "                <div>\n",
       "                  <span class=\"tskit-details-label\">sampling:</span>\n",
       "                  <details >\n",
       "                    <summary>list</summary>\n",
       "                    \n",
       "                <div>\n",
       "                  <span class=\"tskit-details-label\"></span>\n",
       "                  <details >\n",
       "                    <summary>dict</summary>\n",
       "                    \n",
       "                <div>\n",
       "                  <span class=\"tskit-details-label\">n:</span>\n",
       "                  <details >\n",
       "                    <summary>list</summary>\n",
       "                     1.0<br/> 1.0<br/> 1.0<br/> 1.0<br/> 1.0<br/> 1.0<br/> 1.0<br/> 1.0<br/> 1.0<br/> 1.0<br/> 1.0<br/> 1.0<br/> 1.0<br/> 1.0<br/> 1.0<br/> 1.0<br/> 1.0<br/> 1.0<br/> 1.0<br/> 1.0<br/> 1.0<br/> 1.0<br/> 1.0<br/> 1.0<br/> 1.0<br/> 1.0<br/> 1.0<br/> 1.0<br/> 1.0<br/> 1.0<br/> 1.0<br/> 1.0<br/> 1.0<br/> 1.0<br/> 1.0<br/> 1.0<br/> 1.0<br/> 1.0<br/> 1.0<br/> 1.0<br/> 1.0<br/> 1.0<br/> 1.0<br/> 1.0<br/> 1.0<br/> 1.0<br/> 1.0<br/> 1.0<br/> 1.0<br/> 1.0<br/> 1.0<br/> 1.0<br/> 1.0<br/> 1.0<br/> 1.0<br/> 1.0<br/> 1.0<br/> 1.0<br/> 1.0<br/> 1.0<br/> 1.0<br/> 1.0<br/> 1.0<br/> 1.0<br/> 1.0<br/> 1.0<br/> 1.0<br/> 1.0<br/> 1.0<br/> 1.0<br/> 1.0<br/> 1.0<br/> 1.0<br/> 1.0<br/> 1.0<br/> 1.0<br/> 1.0<br/> 1.0<br/> 1.0<br/> 1.0<br/> 300.0<br/> 100.0<br/> 100.0<br/>\n",
       "                  </details>\n",
       "                </div>\n",
       "                <br/>\n",
       "                <div>\n",
       "                  <span class=\"tskit-details-label\">pop:</span>\n",
       "                  <details >\n",
       "                    <summary>list</summary>\n",
       "                     NEA<br/> EUR1<br/> EUR2<br/> NEA<br/> EUR1<br/> EUR2<br/> EUR1<br/> EUR2<br/> EUR1<br/> EUR2<br/> EUR1<br/> EUR2<br/> EUR1<br/> EUR2<br/> EUR1<br/> EUR2<br/> EUR1<br/> EUR2<br/> EUR1<br/> EUR2<br/> EUR1<br/> EUR2<br/> EUR1<br/> EUR2<br/> EUR1<br/> EUR2<br/> EUR1<br/> EUR2<br/> EUR1<br/> EUR2<br/> EUR1<br/> EUR2<br/> EUR1<br/> EUR2<br/> EUR1<br/> EUR2<br/> EUR1<br/> EUR2<br/> EUR1<br/> EUR2<br/> EUR1<br/> EUR2<br/> EUR1<br/> EUR2<br/> EUR1<br/> EUR2<br/> EUR1<br/> EUR2<br/> EUR1<br/> EUR2<br/> EUR1<br/> EUR2<br/> EUR1<br/> EUR2<br/> EUR1<br/> EUR2<br/> EUR1<br/> EUR2<br/> EUR1<br/> EUR2<br/> EUR1<br/> EUR2<br/> EUR1<br/> EUR2<br/> EUR1<br/> EUR2<br/> EUR1<br/> EUR2<br/> EUR1<br/> EUR2<br/> EUR1<br/> EUR2<br/> EUR1<br/> EUR2<br/> EUR1<br/> EUR2<br/> EUR1<br/> EUR2<br/> EUR1<br/> EUR2<br/> AFR<br/> EUR1<br/> EUR2<br/>\n",
       "                  </details>\n",
       "                </div>\n",
       "                <br/>\n",
       "                <div>\n",
       "                  <span class=\"tskit-details-label\">time_gen:</span>\n",
       "                  <details >\n",
       "                    <summary>list</summary>\n",
       "                     17668<br/> 18668<br/> 18668<br/> 18668<br/> 18701<br/> 18701<br/> 18734<br/> 18734<br/> 18768<br/> 18768<br/> 18801<br/> 18801<br/> 18834<br/> 18834<br/> 18868<br/> 18868<br/> 18901<br/> 18901<br/> 18934<br/> 18934<br/> 18968<br/> 18968<br/> 19001<br/> 19001<br/> 19034<br/> 19034<br/> 19068<br/> 19068<br/> 19101<br/> 19101<br/> 19134<br/> 19134<br/> 19168<br/> 19168<br/> 19201<br/> 19201<br/> 19234<br/> 19234<br/> 19268<br/> 19268<br/> 19301<br/> 19301<br/> 19334<br/> 19334<br/> 19368<br/> 19368<br/> 19401<br/> 19401<br/> 19434<br/> 19434<br/> 19468<br/> 19468<br/> 19501<br/> 19501<br/> 19534<br/> 19534<br/> 19568<br/> 19568<br/> 19601<br/> 19601<br/> 19634<br/> 19634<br/> 19668<br/> 19668<br/> 19701<br/> 19701<br/> 19734<br/> 19734<br/> 19768<br/> 19768<br/> 19801<br/> 19801<br/> 19834<br/> 19834<br/> 19868<br/> 19868<br/> 19901<br/> 19901<br/> 19934<br/> 19934<br/> 20001<br/> 20001<br/> 20001<br/>\n",
       "                  </details>\n",
       "                </div>\n",
       "                <br/>\n",
       "                <div>\n",
       "                  <span class=\"tskit-details-label\">time_orig:</span>\n",
       "                  <details >\n",
       "                    <summary>list</summary>\n",
       "                     70000<br/> 40000<br/> 40000<br/> 40000<br/> 39000<br/> 39000<br/> 38000<br/> 38000<br/> 37000<br/> 37000<br/> 36000<br/> 36000<br/> 35000<br/> 35000<br/> 34000<br/> 34000<br/> 33000<br/> 33000<br/> 32000<br/> 32000<br/> 31000<br/> 31000<br/> 30000<br/> 30000<br/> 29000<br/> 29000<br/> 28000<br/> 28000<br/> 27000<br/> 27000<br/> 26000<br/> 26000<br/> 25000<br/> 25000<br/> 24000<br/> 24000<br/> 23000<br/> 23000<br/> 22000<br/> 22000<br/> 21000<br/> 21000<br/> 20000<br/> 20000<br/> 19000<br/> 19000<br/> 18000<br/> 18000<br/> 17000<br/> 17000<br/> 16000<br/> 16000<br/> 15000<br/> 15000<br/> 14000<br/> 14000<br/> 13000<br/> 13000<br/> 12000<br/> 12000<br/> 11000<br/> 11000<br/> 10000<br/> 10000<br/> 9000<br/> 9000<br/> 8000<br/> 8000<br/> 7000<br/> 7000<br/> 6000<br/> 6000<br/> 5000<br/> 5000<br/> 4000<br/> 4000<br/> 3000<br/> 3000<br/> 2000<br/> 2000<br/> 0<br/> 0<br/> 0<br/>\n",
       "                  </details>\n",
       "                </div>\n",
       "                <br/>\n",
       "                  </details>\n",
       "                </div>\n",
       "                <br/>\n",
       "                  </details>\n",
       "                </div>\n",
       "                <br/>\n",
       "                <div>\n",
       "                  <span class=\"tskit-details-label\">version:</span>\n",
       "                  <details >\n",
       "                    <summary>list</summary>\n",
       "                     slendr_0.0.0.9000<br/>\n",
       "                  </details>\n",
       "                </div>\n",
       "                <br/>\n",
       "                  </details>\n",
       "                </div>\n",
       "                <br/>\n",
       "                  </details>\n",
       "                </div>\n",
       "                <br/>\n",
       "                  </details>\n",
       "                </div>\n",
       "                <br/>\n",
       "                  </details>\n",
       "                </div>\n",
       "                <br/>\n",
       "                  </details>\n",
       "                </div>\n",
       "                </td></tr>\n",
       "                    </tbody>\n",
       "                  </table>\n",
       "                </div>\n",
       "                <div class=\"tskit-table-set-table\">\n",
       "                  <table class=\"tskit-table\">\n",
       "                    <thead>\n",
       "                      <tr>\n",
       "                        <th style=\"line-height:21px;\">Table</th>\n",
       "                        <th>Rows</th>\n",
       "                        <th>Size</th>\n",
       "                        <th>Has Metadata</th>\n",
       "                      </tr>\n",
       "                    </thead>\n",
       "                    <tbody>\n",
       "                    \n",
       "                  <tr>\n",
       "                    <td>Edges</td>\n",
       "                      <td>1589409</td>\n",
       "                      <td>42.4 MiB</td>\n",
       "                      <td style=\"text-align: center;\">\n",
       "                        \n",
       "                      </td>\n",
       "                    </tr>\n",
       "                \n",
       "                  <tr>\n",
       "                    <td>Individuals</td>\n",
       "                      <td>232863</td>\n",
       "                      <td>14.2 MiB</td>\n",
       "                      <td style=\"text-align: center;\">\n",
       "                        ✅\n",
       "                      </td>\n",
       "                    </tr>\n",
       "                \n",
       "                  <tr>\n",
       "                    <td>Migrations</td>\n",
       "                      <td>0</td>\n",
       "                      <td>4 Bytes</td>\n",
       "                      <td style=\"text-align: center;\">\n",
       "                        \n",
       "                      </td>\n",
       "                    </tr>\n",
       "                \n",
       "                  <tr>\n",
       "                    <td>Mutations</td>\n",
       "                      <td>0</td>\n",
       "                      <td>1.2 KiB</td>\n",
       "                      <td style=\"text-align: center;\">\n",
       "                        \n",
       "                      </td>\n",
       "                    </tr>\n",
       "                \n",
       "                  <tr>\n",
       "                    <td>Nodes</td>\n",
       "                      <td>235069</td>\n",
       "                      <td>7.6 MiB</td>\n",
       "                      <td style=\"text-align: center;\">\n",
       "                        ✅\n",
       "                      </td>\n",
       "                    </tr>\n",
       "                \n",
       "                  <tr>\n",
       "                    <td>Populations</td>\n",
       "                      <td>4</td>\n",
       "                      <td>3.1 KiB</td>\n",
       "                      <td style=\"text-align: center;\">\n",
       "                        ✅\n",
       "                      </td>\n",
       "                    </tr>\n",
       "                \n",
       "                  <tr>\n",
       "                    <td>Provenances</td>\n",
       "                      <td>2</td>\n",
       "                      <td>29.6 KiB</td>\n",
       "                      <td style=\"text-align: center;\">\n",
       "                        \n",
       "                      </td>\n",
       "                    </tr>\n",
       "                \n",
       "                  <tr>\n",
       "                    <td>Sites</td>\n",
       "                      <td>0</td>\n",
       "                      <td>8 Bytes</td>\n",
       "                      <td style=\"text-align: center;\">\n",
       "                        \n",
       "                      </td>\n",
       "                    </tr>\n",
       "                \n",
       "                    </tbody>\n",
       "                  </table>\n",
       "                </div>\n",
       "              </div>\n",
       "            </div>\n",
       "            "
      ],
      "text/plain": [
       "<pyslim.slim_tree_sequence.SlimTreeSequence at 0x7f8ade384bb0>"
      ]
     },
     "execution_count": 5,
     "metadata": {},
     "output_type": "execute_result"
    }
   ],
   "source": [
    "remembered_nodes = list(chain.from_iterable(\n",
    "    ind.nodes for ind in ts.individuals()\n",
    "    if ind.flags & pyslim.INDIVIDUAL_REMEMBERED\n",
    "))\n",
    "\n",
    "ts = ts.simplify(remembered_nodes)\n",
    "\n",
    "ts"
   ]
  },
  {
   "cell_type": "code",
   "execution_count": 6,
   "metadata": {},
   "outputs": [],
   "source": [
    "def plot_tree(tree, populations, node_labels=None):\n",
    "    styles = []\n",
    "    # Create a style for each population, programmatically (or just type the string by hand)\n",
    "    for colour, p in zip(['red', 'green', 'blue', \"orange\"], ts_small.populations()):\n",
    "        # target the symbols only (class \"sym\")\n",
    "        s = f\".node.p{p.id} > .sym \" + \"{\" + f\"fill: {colour}\" + \"}\"\n",
    "        styles.append(s)\n",
    "        name = populations.query(f\"pop_id == {p.id}\")[\"pop\"].values[0]\n",
    "        print(f'\"{s}\" applies to nodes from population {name} (id {p.id})')\n",
    "    css_string = \" \".join(styles)\n",
    "    print(f'CSS string applied:\\n    \"{css_string}\"')\n",
    "    node_labels = {} if not node_labels else node_labels\n",
    "    display(SVG(tree.draw_svg(size=(700, 400), node_labels=node_labels, style=css_string)))"
   ]
  },
  {
   "cell_type": "markdown",
   "metadata": {},
   "source": [
    "Iterate over all trees and detect those which indicate Neanderthal introgression into Eurasians:"
   ]
  },
  {
   "cell_type": "code",
   "execution_count": 7,
   "metadata": {},
   "outputs": [],
   "source": [
    "def get_introgressed_leaves(tree, neand_id):\n",
    "    start, end = tree.interval\n",
    "\n",
    "    admixed_list = []\n",
    "    for root in tree.roots:\n",
    "        # is the current root rooted in a Neanderthal population?\n",
    "        if tree.population(root) == neand_id:\n",
    "            # if it is, collect all non-Neanderthal nodes under this root\n",
    "            # (these are Eurasians carrying Neanderthal introgression at this locus)\n",
    "            admixed = [node for node in tree.leaves(root)\n",
    "                       if tree.population(node) != neand_id]\n",
    "            admixed_list.extend(admixed)\n",
    "\n",
    "    return admixed_list"
   ]
  },
  {
   "cell_type": "code",
   "execution_count": 8,
   "metadata": {},
   "outputs": [],
   "source": [
    "def detect_introgression(ts, neand_id):\n",
    "    result = []\n",
    "\n",
    "    for tree in tqdm.notebook.tqdm_notebook(ts.trees()):\n",
    "        leaves = get_introgressed_leaves(tree, neand_id)\n",
    "        start, end = tree.interval\n",
    "        result.append((start, end, leaves))\n",
    "\n",
    "    segments = pandas.DataFrame(result, columns=[\"start\", \"end\", \"node\"]) \\\n",
    "        .explode(\"node\") \\\n",
    "        .dropna() \\\n",
    "        .sort_values(by=[\"node\", \"start\"]) \\\n",
    "        .reset_index(drop=True) \\\n",
    "    \n",
    "    return segments"
   ]
  },
  {
   "cell_type": "code",
   "execution_count": 9,
   "metadata": {},
   "outputs": [],
   "source": [
    "def merge_adjacent(segments):\n",
    "    all_merged = []\n",
    "\n",
    "    for node in tqdm.notebook.tqdm_notebook(segments.node.unique()):\n",
    "        node_segments = []\n",
    "\n",
    "        for i, seg in enumerate(segments.query(f\"node == {node}\").itertuples()):\n",
    "            if i == 0: # initialize detection of continuous segments with the first segment\n",
    "                segment_start, prev_end = seg.start, seg.end\n",
    "            elif seg.start == prev_end: # the current segment starts where the previous ended -- continue\n",
    "                prev_end = seg.end\n",
    "            else: # end the continuous segment, start a new one\n",
    "                node_segments.append((segment_start, prev_end, node))\n",
    "                segment_start, prev_end = seg.start, seg.end\n",
    "\n",
    "        # close the last remaining segment\n",
    "        node_segments.append((segment_start, seg.end, node))\n",
    "\n",
    "        all_merged.append(node_segments)\n",
    "\n",
    "    all_merged = list(chain.from_iterable(all_merged))\n",
    "\n",
    "    segments = pandas.DataFrame(all_merged, columns=[\"start\", \"end\", \"node\"]) \\\n",
    "        .sort_values(by=[\"node\", \"start\"]) \\\n",
    "        .reset_index(drop=True)\n",
    "\n",
    "    return segments"
   ]
  },
  {
   "cell_type": "code",
   "execution_count": 10,
   "metadata": {},
   "outputs": [
    {
     "data": {
      "application/vnd.jupyter.widget-view+json": {
       "model_id": "11d321db3f1e43f9928a05096d6ffaa8",
       "version_major": 2,
       "version_minor": 0
      },
      "text/plain": [
       "  0%|          | 0/421237 [00:00<?, ?it/s]"
      ]
     },
     "metadata": {},
     "output_type": "display_data"
    }
   ],
   "source": [
    "segments = detect_introgression(ts, neand_id=0)"
   ]
  },
  {
   "cell_type": "code",
   "execution_count": 11,
   "metadata": {},
   "outputs": [
    {
     "data": {
      "text/plain": [
       "556"
      ]
     },
     "execution_count": 11,
     "metadata": {},
     "output_type": "execute_result"
    }
   ],
   "source": [
    "len(segments.node.unique())"
   ]
  },
  {
   "cell_type": "raw",
   "metadata": {},
   "source": [
    "all_nodes = sorted(segments.node.unique())\n",
    "subset_nodes = random.sample(all_nodes, 5)\n",
    "\n",
    "segments = segments.loc[segments[\"node\"].isin(subset_nodes)].reset_index(drop=True)\n",
    "\n",
    "len(segments.node.unique())"
   ]
  },
  {
   "cell_type": "code",
   "execution_count": 12,
   "metadata": {},
   "outputs": [
    {
     "data": {
      "application/vnd.jupyter.widget-view+json": {
       "model_id": "c27dbab1ceb44cd7888e244dfdd1a0f4",
       "version_major": 2,
       "version_minor": 0
      },
      "text/plain": [
       "  0%|          | 0/556 [00:00<?, ?it/s]"
      ]
     },
     "metadata": {},
     "output_type": "display_data"
    }
   ],
   "source": [
    "merged_segments = merge_adjacent(segments)"
   ]
  },
  {
   "cell_type": "code",
   "execution_count": 13,
   "metadata": {},
   "outputs": [
    {
     "data": {
      "text/plain": [
       "556"
      ]
     },
     "execution_count": 13,
     "metadata": {},
     "output_type": "execute_result"
    }
   ],
   "source": [
    "len(merged_segments.node.unique())"
   ]
  },
  {
   "cell_type": "markdown",
   "metadata": {
    "tags": []
   },
   "source": [
    "## Plots of the \"maps\" of Neanderthal tracts in selected chromosomes\n",
    "\n",
    "Let's make sure that the original segments and the merged adjacent segments are exactly the same:"
   ]
  },
  {
   "cell_type": "code",
   "execution_count": 14,
   "metadata": {},
   "outputs": [],
   "source": [
    "def plot_segments(df, nodes, size, pdf=None):\n",
    "    subset_segments = df.loc[df[\"node\"].isin(nodes)]\n",
    "\n",
    "    fig, ax = plt.subplots(figsize=size)\n",
    "\n",
    "    ax.set_title(\"Positions of Neanderthal ancestry segments in a random pool of simulated EUR chromosomes\")\n",
    "    ax.set_ylabel(\"simulated EUR chromosome ID #\")\n",
    "    ax.set_xlabel(\"position along the chromosome [bp]\")\n",
    "\n",
    "    ax.set_ylim(1, len(nodes))\n",
    "    ax.set_yticks(range(1, len(nodes) + 1))\n",
    "    ax.set_yticklabels(nodes)\n",
    "\n",
    "    positions = numpy.linspace(0, 100e6, 11)\n",
    "    ax.set_xticks(positions)\n",
    "    ax.set_xticklabels([f\"{i/1e6}\" for i in positions])\n",
    "\n",
    "    for i, node in enumerate(nodes, start=1):\n",
    "        node_segments = df.query(f\"node == {node}\")\n",
    "\n",
    "        for segment in node_segments.itertuples():\n",
    "            ax.hlines(y=i, xmin=segment.start, xmax=segment.end, linewidth=10, color='b')\n",
    "        neand_proportion = (node_segments.end - node_segments.start).sum()/100e6\n",
    "\n",
    "        print(f\"True archaic ancestry on EUR chromosome ID #{node}: {100 * neand_proportion:.3f}%\")\n",
    "\n",
    "    plt.show()\n",
    "\n",
    "    if pdf: fig.savefig(pdf)"
   ]
  },
  {
   "cell_type": "code",
   "execution_count": 15,
   "metadata": {},
   "outputs": [],
   "source": [
    "subset_nodes = random.sample(list(segments.node.unique()), 5)"
   ]
  },
  {
   "cell_type": "code",
   "execution_count": 16,
   "metadata": {},
   "outputs": [
    {
     "name": "stdout",
     "output_type": "stream",
     "text": [
      "True archaic ancestry on EUR chromosome ID #893: 3.050%\n",
      "True archaic ancestry on EUR chromosome ID #1149: 3.387%\n",
      "True archaic ancestry on EUR chromosome ID #956: 3.861%\n",
      "True archaic ancestry on EUR chromosome ID #656: 2.385%\n",
      "True archaic ancestry on EUR chromosome ID #642: 2.127%\n"
     ]
    },
    {
     "data": {
      "image/png": "[encoded data removed]",
      "text/plain": [
       "<Figure size 2160x216 with 1 Axes>"
      ]
     },
     "metadata": {
      "needs_background": "light"
     },
     "output_type": "display_data"
    }
   ],
   "source": [
    "plot_segments(segments, nodes=subset_nodes, size=(30, 3))"
   ]
  },
  {
   "cell_type": "code",
   "execution_count": 17,
   "metadata": {},
   "outputs": [
    {
     "name": "stdout",
     "output_type": "stream",
     "text": [
      "True archaic ancestry on EUR chromosome ID #893: 3.050%\n",
      "True archaic ancestry on EUR chromosome ID #1149: 3.387%\n",
      "True archaic ancestry on EUR chromosome ID #956: 3.861%\n",
      "True archaic ancestry on EUR chromosome ID #656: 2.385%\n",
      "True archaic ancestry on EUR chromosome ID #642: 2.127%\n"
     ]
    },
    {
     "data": {
      "image/png": "[encoded data removed]",
      "text/plain": [
       "<Figure size 2160x216 with 1 Axes>"
      ]
     },
     "metadata": {
      "needs_background": "light"
     },
     "output_type": "display_data"
    }
   ],
   "source": [
    "plot_segments(merged_segments, nodes=subset_nodes, size=(30, 3))"
   ]
  },
  {
   "cell_type": "markdown",
   "metadata": {},
   "source": [
    "## Plotting trees showing Neanderthal introgression"
   ]
  },
  {
   "cell_type": "markdown",
   "metadata": {},
   "source": [
    "Extract only a subset of all nodes from all populations for easier plotting of trees:"
   ]
  },
  {
   "cell_type": "code",
   "execution_count": 7,
   "metadata": {},
   "outputs": [
    {
     "data": {
      "text/html": [
       "\n",
       "            <div>\n",
       "                <style scoped=\"\">\n",
       "                    .tskit-table tbody tr th:only-of-type {vertical-align: middle;}\n",
       "                    .tskit-table tbody tr th {vertical-align: top;}\n",
       "                    .tskit-table tbody td {text-align: right;padding: 0.5em 0.5em;}\n",
       "                    .tskit-table tbody th {padding: 0.5em 0.5em;}\n",
       "                </style>\n",
       "                <table border=\"1\" class=\"tskit-table\">\n",
       "                    <thead>\n",
       "                        <tr>\n",
       "                            <th>id</th><th>metadata</th>\n",
       "                        </tr>\n",
       "                    </thead>\n",
       "                    <tbody>\n",
       "                        <tr><td>0</td><td>{'slim_id': 0, 'selfing_fraction': 0.0, 'female_cloning_fraction': ...</td></tr>\n",
       "<tr><td>1</td><td>{'slim_id': 1, 'selfing_fraction': 0.0, 'female_cloning_fraction': ...</td></tr>\n",
       "<tr><td>2</td><td>{'slim_id': 2, 'selfing_fraction': 0.0, 'female_cloning_fraction': ...</td></tr>\n",
       "<tr><td>3</td><td>{'slim_id': 3, 'selfing_fraction': 0.0, 'female_cloning_fraction': ...</td></tr>\n",
       "\n",
       "                    </tbody>\n",
       "                </table>\n",
       "            </div>\n",
       "        "
      ],
      "text/plain": [
       "<tskit.tables.PopulationTable at 0x7f305c411a00>"
      ]
     },
     "execution_count": 7,
     "metadata": {},
     "output_type": "execute_result"
    }
   ],
   "source": [
    "ts.tables.populations"
   ]
  },
  {
   "cell_type": "code",
   "execution_count": 8,
   "metadata": {},
   "outputs": [],
   "source": [
    "neand_id = 0"
   ]
  },
  {
   "cell_type": "code",
   "execution_count": 58,
   "metadata": {},
   "outputs": [
    {
     "ename": "ValueError",
     "evalue": "Sample larger than population or is negative",
     "output_type": "error",
     "traceback": [
      "\u001b[0;31m---------------------------------------------------------------------------\u001b[0m",
      "\u001b[0;31mValueError\u001b[0m                                Traceback (most recent call last)",
      "\u001b[0;32m/tmp/ipykernel_2260721/1493622866.py\u001b[0m in \u001b[0;36m<module>\u001b[0;34m\u001b[0m\n\u001b[1;32m      3\u001b[0m \u001b[0mafr_nodes\u001b[0m \u001b[0;34m=\u001b[0m \u001b[0mrandom\u001b[0m\u001b[0;34m.\u001b[0m\u001b[0msample\u001b[0m\u001b[0;34m(\u001b[0m\u001b[0mlist\u001b[0m\u001b[0;34m(\u001b[0m\u001b[0mts\u001b[0m\u001b[0;34m.\u001b[0m\u001b[0msamples\u001b[0m\u001b[0;34m(\u001b[0m\u001b[0mpopulation\u001b[0m\u001b[0;34m=\u001b[0m\u001b[0mpopulations\u001b[0m\u001b[0;34m.\u001b[0m\u001b[0mquery\u001b[0m\u001b[0;34m(\u001b[0m\u001b[0;34m\"pop == 'AFR'\"\u001b[0m\u001b[0;34m)\u001b[0m\u001b[0;34m.\u001b[0m\u001b[0mpop_id\u001b[0m\u001b[0;34m.\u001b[0m\u001b[0mvalues\u001b[0m\u001b[0;34m)\u001b[0m\u001b[0;34m)\u001b[0m\u001b[0;34m,\u001b[0m \u001b[0;36m10\u001b[0m\u001b[0;34m)\u001b[0m\u001b[0;34m\u001b[0m\u001b[0;34m\u001b[0m\u001b[0m\n\u001b[1;32m      4\u001b[0m \u001b[0;34m\u001b[0m\u001b[0m\n\u001b[0;32m----> 5\u001b[0;31m \u001b[0meur_nodes\u001b[0m \u001b[0;34m=\u001b[0m \u001b[0mrandom\u001b[0m\u001b[0;34m.\u001b[0m\u001b[0msample\u001b[0m\u001b[0;34m(\u001b[0m\u001b[0mlist\u001b[0m\u001b[0;34m(\u001b[0m\u001b[0mmerged_segments\u001b[0m\u001b[0;34m.\u001b[0m\u001b[0mnode\u001b[0m\u001b[0;34m.\u001b[0m\u001b[0munique\u001b[0m\u001b[0;34m(\u001b[0m\u001b[0;34m)\u001b[0m\u001b[0;34m)\u001b[0m\u001b[0;34m,\u001b[0m \u001b[0;36m20\u001b[0m\u001b[0;34m)\u001b[0m\u001b[0;34m\u001b[0m\u001b[0;34m\u001b[0m\u001b[0m\n\u001b[0m",
      "\u001b[0;32m/projects/racimolab/people/krd114/.conda/envs/retipy/lib/python3.9/random.py\u001b[0m in \u001b[0;36msample\u001b[0;34m(self, population, k, counts)\u001b[0m\n\u001b[1;32m    447\u001b[0m         \u001b[0mrandbelow\u001b[0m \u001b[0;34m=\u001b[0m \u001b[0mself\u001b[0m\u001b[0;34m.\u001b[0m\u001b[0m_randbelow\u001b[0m\u001b[0;34m\u001b[0m\u001b[0;34m\u001b[0m\u001b[0m\n\u001b[1;32m    448\u001b[0m         \u001b[0;32mif\u001b[0m \u001b[0;32mnot\u001b[0m \u001b[0;36m0\u001b[0m \u001b[0;34m<=\u001b[0m \u001b[0mk\u001b[0m \u001b[0;34m<=\u001b[0m \u001b[0mn\u001b[0m\u001b[0;34m:\u001b[0m\u001b[0;34m\u001b[0m\u001b[0;34m\u001b[0m\u001b[0m\n\u001b[0;32m--> 449\u001b[0;31m             \u001b[0;32mraise\u001b[0m \u001b[0mValueError\u001b[0m\u001b[0;34m(\u001b[0m\u001b[0;34m\"Sample larger than population or is negative\"\u001b[0m\u001b[0;34m)\u001b[0m\u001b[0;34m\u001b[0m\u001b[0;34m\u001b[0m\u001b[0m\n\u001b[0m\u001b[1;32m    450\u001b[0m         \u001b[0mresult\u001b[0m \u001b[0;34m=\u001b[0m \u001b[0;34m[\u001b[0m\u001b[0;32mNone\u001b[0m\u001b[0;34m]\u001b[0m \u001b[0;34m*\u001b[0m \u001b[0mk\u001b[0m\u001b[0;34m\u001b[0m\u001b[0;34m\u001b[0m\u001b[0m\n\u001b[1;32m    451\u001b[0m         \u001b[0msetsize\u001b[0m \u001b[0;34m=\u001b[0m \u001b[0;36m21\u001b[0m        \u001b[0;31m# size of a small set minus size of an empty list\u001b[0m\u001b[0;34m\u001b[0m\u001b[0;34m\u001b[0m\u001b[0m\n",
      "\u001b[0;31mValueError\u001b[0m: Sample larger than population or is negative"
     ]
    }
   ],
   "source": [
    "neand_nodes = list(ts.samples(population=populations.query(\"pop == 'NEA'\").pop_id.values))\n",
    "\n",
    "afr_nodes = random.sample(list(ts.samples(population=populations.query(\"pop == 'AFR'\").pop_id.values)), 10)\n",
    "\n",
    "eur_nodes = random.sample(list(merged_segments.node.unique()), 20)"
   ]
  },
  {
   "cell_type": "code",
   "execution_count": 10,
   "metadata": {},
   "outputs": [],
   "source": [
    "amh_nodes = list(chain.from_iterable(\n",
    "    random.sample(list(ts.samples(population=pop_id)), 10)\n",
    "    for pop_id in range(1, ts.num_populations)\n",
    "))"
   ]
  },
  {
   "cell_type": "code",
   "execution_count": 11,
   "metadata": {},
   "outputs": [],
   "source": [
    "subset_nodes = neand_nodes + amh_nodes"
   ]
  },
  {
   "cell_type": "code",
   "execution_count": 12,
   "metadata": {},
   "outputs": [],
   "source": [
    "ts_small = ts.simplify(subset_nodes)"
   ]
  },
  {
   "cell_type": "code",
   "execution_count": 13,
   "metadata": {},
   "outputs": [
    {
     "data": {
      "text/html": [
       "\n",
       "            <div>\n",
       "              <style>\n",
       "                .tskit-table thead tr th {text-align: left;padding: 0.5em 0.5em;}\n",
       "                .tskit-table tbody tr td {padding: 0.5em 0.5em;}\n",
       "                .tskit-table tbody tr td:first-of-type {text-align: left;}\n",
       "                .tskit-details-label {vertical-align: top; padding-right:5px;}\n",
       "                .tskit-table-set {display: inline-flex;flex-wrap: wrap;margin: -12px 0 0 -12px;width: calc(100% + 12px);}\n",
       "                .tskit-table-set-table {margin: 12px 0 0 12px;}\n",
       "                details {display: inline-block;}\n",
       "                summary {cursor: pointer; outline: 0; display: list-item;}\n",
       "              </style>\n",
       "              <div class=\"tskit-table-set\">\n",
       "                <div class=\"tskit-table-set-table\">\n",
       "                  <table class=\"tskit-table\">\n",
       "                    <thead>\n",
       "                      <tr>\n",
       "                        <th style=\"padding:0;line-height:21px;\">\n",
       "                          <img style=\"height: 32px;display: inline-block;padding: 3px 5px 3px 0;\" src=\"https://raw.githubusercontent.com/tskit-dev/administrative/main/tskit_logo.svg\"/>\n",
       "                          <a target=\"_blank\" href=\"https://tskit.readthedocs.io/en/latest/python-api.html#the-tree-class\"> Tree </a>\n",
       "                        </th>\n",
       "                      </tr>\n",
       "                    </thead>\n",
       "                    <tbody>\n",
       "                      <tr><td>Index</td><td>0</td></tr>\n",
       "                      <tr><td>Interval</td><td>0-781 (781)</td></tr>\n",
       "                      <tr><td>Roots</td><td>3</td></tr>\n",
       "                      <tr><td>Nodes</td><td>67705</td></tr>\n",
       "                      <tr><td>Sites</td><td>0</td></tr>\n",
       "                      <tr><td>Mutations</td><td>0</td></tr>\n",
       "                      <tr><td>Total Branch Length</td><td>138240</td></tr>\n",
       "                    </tbody>\n",
       "                  </table>\n",
       "                </div>\n",
       "              </div>\n",
       "            </div>\n",
       "            "
      ],
      "text/plain": [
       "<tskit.trees.Tree at 0x7f305c420130>"
      ]
     },
     "execution_count": 13,
     "metadata": {},
     "output_type": "execute_result"
    }
   ],
   "source": [
    "tree = ts_small.first()\n",
    "tree"
   ]
  },
  {
   "cell_type": "code",
   "execution_count": null,
   "metadata": {},
   "outputs": [],
   "source": []
  }
 ],
 "metadata": {
  "interpreter": {
   "hash": "1387966c17c46f543b5ff91b0d76c78ab283c4f67658e568c4c8be382fb93ccb"
  },
  "kernelspec": {
   "display_name": "Python 3 (ipykernel)",
   "language": "python",
   "name": "python3"
  },
  "language_info": {
   "codemirror_mode": {
    "name": "ipython",
    "version": 3
   },
   "file_extension": ".py",
   "mimetype": "text/x-python",
   "name": "python",
   "nbconvert_exporter": "python",
   "pygments_lexer": "ipython3",
   "version": "3.9.7"
  }
 },
 "nbformat": 4,
 "nbformat_minor": 4
}
