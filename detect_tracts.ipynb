{
 "cells": [
  {
   "cell_type": "markdown",
   "metadata": {},
   "source": [
    "# Detecting true introgressed tracts from simulated tree sequences\n",
    "\n",
    "This notebook works on a tree sequence file saved by a [slendr](http://www.slendr.net) simulation framework from a model defined in `introgression.Rmd`."
   ]
  },
  {
   "cell_type": "code",
   "execution_count": 1,
   "metadata": {},
   "outputs": [],
   "source": [
    "trees_file = \"results/output_ts.trees\""
   ]
  },
  {
   "cell_type": "code",
   "execution_count": 2,
   "metadata": {},
   "outputs": [],
   "source": [
    "import random\n",
    "from itertools import chain\n",
    "from collections import defaultdict\n",
    "\n",
    "import tskit\n",
    "import pyslim\n",
    "import pandas\n",
    "import numpy\n",
    "import matplotlib.pyplot as plt\n",
    "import tqdm.notebook\n",
    "from IPython.display import display, SVG\n",
    "\n",
    "random.seed(314159265)"
   ]
  },
  {
   "cell_type": "code",
   "execution_count": 3,
   "metadata": {},
   "outputs": [],
   "source": [
    "populations = pandas.read_table(\"model/populations.tsv\")"
   ]
  },
  {
   "cell_type": "markdown",
   "metadata": {},
   "source": [
    "Load the complete tree sequence output:"
   ]
  },
  {
   "cell_type": "code",
   "execution_count": 4,
   "metadata": {},
   "outputs": [
    {
     "data": {
      "text/html": [
       "\n",
       "            <div>\n",
       "              <style>\n",
       "                .tskit-table thead tr th {text-align: left;padding: 0.5em 0.5em;}\n",
       "                .tskit-table tbody tr td {padding: 0.5em 0.5em;}\n",
       "                .tskit-table tbody tr td:first-of-type {text-align: left;}\n",
       "                .tskit-details-label {vertical-align: top; padding-right:5px;}\n",
       "                .tskit-table-set {display: inline-flex;flex-wrap: wrap;margin: -12px 0 0 -12px;width: calc(100% + 12px);}\n",
       "                .tskit-table-set-table {margin: 12px 0 0 12px;}\n",
       "                details {display: inline-block;}\n",
       "                summary {cursor: pointer; outline: 0; display: list-item;}\n",
       "              </style>\n",
       "              <div class=\"tskit-table-set\">\n",
       "                <div class=\"tskit-table-set-table\">\n",
       "                  <table class=\"tskit-table\">\n",
       "                    <thead>\n",
       "                      <tr>\n",
       "                        <th style=\"padding:0;line-height:21px;\">\n",
       "                          <img style=\"height: 32px;display: inline-block;padding: 3px 5px 3px 0;\" src=\"https://raw.githubusercontent.com/tskit-dev/administrative/main/tskit_logo.svg\"/>\n",
       "                          <a target=\"_blank\" href=\"https://tskit.readthedocs.io/en/latest/python-api.html#the-treesequence-class\"> Tree Sequence </a>\n",
       "                        </th>\n",
       "                      </tr>\n",
       "                    </thead>\n",
       "                    <tbody>\n",
       "                      <tr><td>Trees</td><td>729816</td></tr>\n",
       "                      <tr><td>Sequence Length</td><td>100000000.0</td></tr>\n",
       "                      <tr><td>Sample Nodes</td><td>40160</td></tr>\n",
       "                      <tr><td>Total Size</td><td>135.6 MiB</td></tr>\n",
       "                      <tr>\n",
       "                        <td>Metadata</td><td style=\"text-align: left;\">\n",
       "                <div>\n",
       "                  <span class=\"tskit-details-label\"></span>\n",
       "                  <details open>\n",
       "                    <summary>dict</summary>\n",
       "                    \n",
       "                <div>\n",
       "                  <span class=\"tskit-details-label\">SLiM:</span>\n",
       "                  <details >\n",
       "                    <summary>dict</summary>\n",
       "                    file_version: 0.6<br/>generation: 20001<br/>model_type: WF<br/>nucleotide_based: False<br/>separate_sexes: False<br/>spatial_dimensionality: <br/>spatial_periodicity: <br/>stage: late<br/>\n",
       "                <div>\n",
       "                  <span class=\"tskit-details-label\">user_metadata:</span>\n",
       "                  <details >\n",
       "                    <summary>dict</summary>\n",
       "                    \n",
       "                <div>\n",
       "                  <span class=\"tskit-details-label\">slendr:</span>\n",
       "                  <details >\n",
       "                    <summary>list</summary>\n",
       "                    \n",
       "                <div>\n",
       "                  <span class=\"tskit-details-label\"></span>\n",
       "                  <details >\n",
       "                    <summary>dict</summary>\n",
       "                    \n",
       "                <div>\n",
       "                  <span class=\"tskit-details-label\">arguments:</span>\n",
       "                  <details >\n",
       "                    <summary>list</summary>\n",
       "                    \n",
       "                <div>\n",
       "                  <span class=\"tskit-details-label\"></span>\n",
       "                  <details >\n",
       "                    <summary>dict</summary>\n",
       "                    \n",
       "                <div>\n",
       "                  <span class=\"tskit-details-label\">BURNIN_LENGTH:</span>\n",
       "                  <details >\n",
       "                    <summary>list</summary>\n",
       "                     0<br/>\n",
       "                  </details>\n",
       "                </div>\n",
       "                <br/>\n",
       "                <div>\n",
       "                  <span class=\"tskit-details-label\">MAX_ATTEMPTS:</span>\n",
       "                  <details >\n",
       "                    <summary>list</summary>\n",
       "                     10<br/>\n",
       "                  </details>\n",
       "                </div>\n",
       "                <br/>\n",
       "                <div>\n",
       "                  <span class=\"tskit-details-label\">RECOMB_RATE:</span>\n",
       "                  <details >\n",
       "                    <summary>list</summary>\n",
       "                     1e-08<br/>\n",
       "                  </details>\n",
       "                </div>\n",
       "                <br/>\n",
       "                <div>\n",
       "                  <span class=\"tskit-details-label\">SEED:</span>\n",
       "                  <details >\n",
       "                    <summary>list</summary>\n",
       "                     314159265<br/>\n",
       "                  </details>\n",
       "                </div>\n",
       "                <br/>\n",
       "                <div>\n",
       "                  <span class=\"tskit-details-label\">SEQUENCE_LENGTH:</span>\n",
       "                  <details >\n",
       "                    <summary>list</summary>\n",
       "                     100000000<br/>\n",
       "                  </details>\n",
       "                </div>\n",
       "                <br/>\n",
       "                <div>\n",
       "                  <span class=\"tskit-details-label\">SIMULATION_LENGTH:</span>\n",
       "                  <details >\n",
       "                    <summary>list</summary>\n",
       "                     20000<br/>\n",
       "                  </details>\n",
       "                </div>\n",
       "                <br/>\n",
       "                  </details>\n",
       "                </div>\n",
       "                <br/>\n",
       "                  </details>\n",
       "                </div>\n",
       "                <br/>\n",
       "                <div>\n",
       "                  <span class=\"tskit-details-label\">backend:</span>\n",
       "                  <details >\n",
       "                    <summary>list</summary>\n",
       "                     SLiM<br/>\n",
       "                  </details>\n",
       "                </div>\n",
       "                <br/>\n",
       "                <div>\n",
       "                  <span class=\"tskit-details-label\">description:</span>\n",
       "                  <details >\n",
       "                    <summary>list</summary>\n",
       "                     <br/>\n",
       "                  </details>\n",
       "                </div>\n",
       "                <br/>\n",
       "                <div>\n",
       "                  <span class=\"tskit-details-label\">sampling:</span>\n",
       "                  <details >\n",
       "                    <summary>list</summary>\n",
       "                    \n",
       "                <div>\n",
       "                  <span class=\"tskit-details-label\"></span>\n",
       "                  <details >\n",
       "                    <summary>dict</summary>\n",
       "                    \n",
       "                <div>\n",
       "                  <span class=\"tskit-details-label\">n:</span>\n",
       "                  <details >\n",
       "                    <summary>list</summary>\n",
       "                     1.0<br/> 1.0<br/> 1.0<br/> 1.0<br/> 1.0<br/> 1.0<br/> 1.0<br/> 1.0<br/> 1.0<br/> 1.0<br/> 1.0<br/> 1.0<br/> 1.0<br/> 1.0<br/> 1.0<br/> 1.0<br/> 1.0<br/> 1.0<br/> 1.0<br/> 1.0<br/> 1.0<br/> 1.0<br/> 1.0<br/> 1.0<br/> 1.0<br/> 1.0<br/> 1.0<br/> 1.0<br/> 1.0<br/> 1.0<br/> 1.0<br/> 1.0<br/> 1.0<br/> 1.0<br/> 1.0<br/> 1.0<br/> 1.0<br/> 1.0<br/> 1.0<br/> 1.0<br/> 1.0<br/> 1.0<br/> 1.0<br/> 1.0<br/> 1.0<br/> 1.0<br/> 1.0<br/> 1.0<br/> 1.0<br/> 1.0<br/> 1.0<br/> 1.0<br/> 1.0<br/> 1.0<br/> 1.0<br/> 1.0<br/> 1.0<br/> 1.0<br/> 1.0<br/> 1.0<br/> 1.0<br/> 1.0<br/> 1.0<br/> 1.0<br/> 1.0<br/> 1.0<br/> 1.0<br/> 1.0<br/> 1.0<br/> 1.0<br/> 1.0<br/> 1.0<br/> 1.0<br/> 1.0<br/> 1.0<br/> 1.0<br/> 1.0<br/> 1.0<br/> 1.0<br/> 1.0<br/> 300.0<br/> 100.0<br/> 100.0<br/>\n",
       "                  </details>\n",
       "                </div>\n",
       "                <br/>\n",
       "                <div>\n",
       "                  <span class=\"tskit-details-label\">pop:</span>\n",
       "                  <details >\n",
       "                    <summary>list</summary>\n",
       "                     NEA<br/> EUR1<br/> EUR2<br/> NEA<br/> EUR1<br/> EUR2<br/> EUR1<br/> EUR2<br/> EUR1<br/> EUR2<br/> EUR1<br/> EUR2<br/> EUR1<br/> EUR2<br/> EUR1<br/> EUR2<br/> EUR1<br/> EUR2<br/> EUR1<br/> EUR2<br/> EUR1<br/> EUR2<br/> EUR1<br/> EUR2<br/> EUR1<br/> EUR2<br/> EUR1<br/> EUR2<br/> EUR1<br/> EUR2<br/> EUR1<br/> EUR2<br/> EUR1<br/> EUR2<br/> EUR1<br/> EUR2<br/> EUR1<br/> EUR2<br/> EUR1<br/> EUR2<br/> EUR1<br/> EUR2<br/> EUR1<br/> EUR2<br/> EUR1<br/> EUR2<br/> EUR1<br/> EUR2<br/> EUR1<br/> EUR2<br/> EUR1<br/> EUR2<br/> EUR1<br/> EUR2<br/> EUR1<br/> EUR2<br/> EUR1<br/> EUR2<br/> EUR1<br/> EUR2<br/> EUR1<br/> EUR2<br/> EUR1<br/> EUR2<br/> EUR1<br/> EUR2<br/> EUR1<br/> EUR2<br/> EUR1<br/> EUR2<br/> EUR1<br/> EUR2<br/> EUR1<br/> EUR2<br/> EUR1<br/> EUR2<br/> EUR1<br/> EUR2<br/> EUR1<br/> EUR2<br/> AFR<br/> EUR1<br/> EUR2<br/>\n",
       "                  </details>\n",
       "                </div>\n",
       "                <br/>\n",
       "                <div>\n",
       "                  <span class=\"tskit-details-label\">time_gen:</span>\n",
       "                  <details >\n",
       "                    <summary>list</summary>\n",
       "                     17668<br/> 18668<br/> 18668<br/> 18668<br/> 18701<br/> 18701<br/> 18734<br/> 18734<br/> 18768<br/> 18768<br/> 18801<br/> 18801<br/> 18834<br/> 18834<br/> 18868<br/> 18868<br/> 18901<br/> 18901<br/> 18934<br/> 18934<br/> 18968<br/> 18968<br/> 19001<br/> 19001<br/> 19034<br/> 19034<br/> 19068<br/> 19068<br/> 19101<br/> 19101<br/> 19134<br/> 19134<br/> 19168<br/> 19168<br/> 19201<br/> 19201<br/> 19234<br/> 19234<br/> 19268<br/> 19268<br/> 19301<br/> 19301<br/> 19334<br/> 19334<br/> 19368<br/> 19368<br/> 19401<br/> 19401<br/> 19434<br/> 19434<br/> 19468<br/> 19468<br/> 19501<br/> 19501<br/> 19534<br/> 19534<br/> 19568<br/> 19568<br/> 19601<br/> 19601<br/> 19634<br/> 19634<br/> 19668<br/> 19668<br/> 19701<br/> 19701<br/> 19734<br/> 19734<br/> 19768<br/> 19768<br/> 19801<br/> 19801<br/> 19834<br/> 19834<br/> 19868<br/> 19868<br/> 19901<br/> 19901<br/> 19934<br/> 19934<br/> 20001<br/> 20001<br/> 20001<br/>\n",
       "                  </details>\n",
       "                </div>\n",
       "                <br/>\n",
       "                <div>\n",
       "                  <span class=\"tskit-details-label\">time_orig:</span>\n",
       "                  <details >\n",
       "                    <summary>list</summary>\n",
       "                     70000<br/> 40000<br/> 40000<br/> 40000<br/> 39000<br/> 39000<br/> 38000<br/> 38000<br/> 37000<br/> 37000<br/> 36000<br/> 36000<br/> 35000<br/> 35000<br/> 34000<br/> 34000<br/> 33000<br/> 33000<br/> 32000<br/> 32000<br/> 31000<br/> 31000<br/> 30000<br/> 30000<br/> 29000<br/> 29000<br/> 28000<br/> 28000<br/> 27000<br/> 27000<br/> 26000<br/> 26000<br/> 25000<br/> 25000<br/> 24000<br/> 24000<br/> 23000<br/> 23000<br/> 22000<br/> 22000<br/> 21000<br/> 21000<br/> 20000<br/> 20000<br/> 19000<br/> 19000<br/> 18000<br/> 18000<br/> 17000<br/> 17000<br/> 16000<br/> 16000<br/> 15000<br/> 15000<br/> 14000<br/> 14000<br/> 13000<br/> 13000<br/> 12000<br/> 12000<br/> 11000<br/> 11000<br/> 10000<br/> 10000<br/> 9000<br/> 9000<br/> 8000<br/> 8000<br/> 7000<br/> 7000<br/> 6000<br/> 6000<br/> 5000<br/> 5000<br/> 4000<br/> 4000<br/> 3000<br/> 3000<br/> 2000<br/> 2000<br/> 0<br/> 0<br/> 0<br/>\n",
       "                  </details>\n",
       "                </div>\n",
       "                <br/>\n",
       "                  </details>\n",
       "                </div>\n",
       "                <br/>\n",
       "                  </details>\n",
       "                </div>\n",
       "                <br/>\n",
       "                <div>\n",
       "                  <span class=\"tskit-details-label\">version:</span>\n",
       "                  <details >\n",
       "                    <summary>list</summary>\n",
       "                     slendr_0.0.0.9000<br/>\n",
       "                  </details>\n",
       "                </div>\n",
       "                <br/>\n",
       "                  </details>\n",
       "                </div>\n",
       "                <br/>\n",
       "                  </details>\n",
       "                </div>\n",
       "                <br/>\n",
       "                  </details>\n",
       "                </div>\n",
       "                <br/>\n",
       "                  </details>\n",
       "                </div>\n",
       "                <br/>\n",
       "                  </details>\n",
       "                </div>\n",
       "                </td></tr>\n",
       "                    </tbody>\n",
       "                  </table>\n",
       "                </div>\n",
       "                <div class=\"tskit-table-set-table\">\n",
       "                  <table class=\"tskit-table\">\n",
       "                    <thead>\n",
       "                      <tr>\n",
       "                        <th style=\"line-height:21px;\">Table</th>\n",
       "                        <th>Rows</th>\n",
       "                        <th>Size</th>\n",
       "                        <th>Has Metadata</th>\n",
       "                      </tr>\n",
       "                    </thead>\n",
       "                    <tbody>\n",
       "                    \n",
       "                  <tr>\n",
       "                    <td>Edges</td>\n",
       "                      <td>2820519</td>\n",
       "                      <td>75.3 MiB</td>\n",
       "                      <td style=\"text-align: center;\">\n",
       "                        \n",
       "                      </td>\n",
       "                    </tr>\n",
       "                \n",
       "                  <tr>\n",
       "                    <td>Individuals</td>\n",
       "                      <td>397068</td>\n",
       "                      <td>24.2 MiB</td>\n",
       "                      <td style=\"text-align: center;\">\n",
       "                        ✅\n",
       "                      </td>\n",
       "                    </tr>\n",
       "                \n",
       "                  <tr>\n",
       "                    <td>Migrations</td>\n",
       "                      <td>0</td>\n",
       "                      <td>4 Bytes</td>\n",
       "                      <td style=\"text-align: center;\">\n",
       "                        \n",
       "                      </td>\n",
       "                    </tr>\n",
       "                \n",
       "                  <tr>\n",
       "                    <td>Mutations</td>\n",
       "                      <td>0</td>\n",
       "                      <td>1.2 KiB</td>\n",
       "                      <td style=\"text-align: center;\">\n",
       "                        \n",
       "                      </td>\n",
       "                    </tr>\n",
       "                \n",
       "                  <tr>\n",
       "                    <td>Nodes</td>\n",
       "                      <td>446400</td>\n",
       "                      <td>14.5 MiB</td>\n",
       "                      <td style=\"text-align: center;\">\n",
       "                        ✅\n",
       "                      </td>\n",
       "                    </tr>\n",
       "                \n",
       "                  <tr>\n",
       "                    <td>Populations</td>\n",
       "                      <td>4</td>\n",
       "                      <td>3.1 KiB</td>\n",
       "                      <td style=\"text-align: center;\">\n",
       "                        ✅\n",
       "                      </td>\n",
       "                    </tr>\n",
       "                \n",
       "                  <tr>\n",
       "                    <td>Provenances</td>\n",
       "                      <td>1</td>\n",
       "                      <td>29.2 KiB</td>\n",
       "                      <td style=\"text-align: center;\">\n",
       "                        \n",
       "                      </td>\n",
       "                    </tr>\n",
       "                \n",
       "                  <tr>\n",
       "                    <td>Sites</td>\n",
       "                      <td>0</td>\n",
       "                      <td>8 Bytes</td>\n",
       "                      <td style=\"text-align: center;\">\n",
       "                        \n",
       "                      </td>\n",
       "                    </tr>\n",
       "                \n",
       "                    </tbody>\n",
       "                  </table>\n",
       "                </div>\n",
       "              </div>\n",
       "            </div>\n",
       "            "
      ],
      "text/plain": [
       "<pyslim.slim_tree_sequence.SlimTreeSequence at 0x7ff506cc3340>"
      ]
     },
     "execution_count": 4,
     "metadata": {},
     "output_type": "execute_result"
    }
   ],
   "source": [
    "ts = pyslim.load(trees_file)\n",
    "ts"
   ]
  },
  {
   "cell_type": "markdown",
   "metadata": {},
   "source": [
    "Get nodes (chromosomes) of remembered individuals and simplify the tree sequence only to those nodes to make it simpler:"
   ]
  },
  {
   "cell_type": "code",
   "execution_count": 5,
   "metadata": {},
   "outputs": [
    {
     "data": {
      "text/html": [
       "\n",
       "            <div>\n",
       "              <style>\n",
       "                .tskit-table thead tr th {text-align: left;padding: 0.5em 0.5em;}\n",
       "                .tskit-table tbody tr td {padding: 0.5em 0.5em;}\n",
       "                .tskit-table tbody tr td:first-of-type {text-align: left;}\n",
       "                .tskit-details-label {vertical-align: top; padding-right:5px;}\n",
       "                .tskit-table-set {display: inline-flex;flex-wrap: wrap;margin: -12px 0 0 -12px;width: calc(100% + 12px);}\n",
       "                .tskit-table-set-table {margin: 12px 0 0 12px;}\n",
       "                details {display: inline-block;}\n",
       "                summary {cursor: pointer; outline: 0; display: list-item;}\n",
       "              </style>\n",
       "              <div class=\"tskit-table-set\">\n",
       "                <div class=\"tskit-table-set-table\">\n",
       "                  <table class=\"tskit-table\">\n",
       "                    <thead>\n",
       "                      <tr>\n",
       "                        <th style=\"padding:0;line-height:21px;\">\n",
       "                          <img style=\"height: 32px;display: inline-block;padding: 3px 5px 3px 0;\" src=\"https://raw.githubusercontent.com/tskit-dev/administrative/main/tskit_logo.svg\"/>\n",
       "                          <a target=\"_blank\" href=\"https://tskit.readthedocs.io/en/latest/python-api.html#the-treesequence-class\"> Tree Sequence </a>\n",
       "                        </th>\n",
       "                      </tr>\n",
       "                    </thead>\n",
       "                    <tbody>\n",
       "                      <tr><td>Trees</td><td>421237</td></tr>\n",
       "                      <tr><td>Sequence Length</td><td>100000000.0</td></tr>\n",
       "                      <tr><td>Sample Nodes</td><td>1160</td></tr>\n",
       "                      <tr><td>Total Size</td><td>76.4 MiB</td></tr>\n",
       "                      <tr>\n",
       "                        <td>Metadata</td><td style=\"text-align: left;\">\n",
       "                <div>\n",
       "                  <span class=\"tskit-details-label\"></span>\n",
       "                  <details open>\n",
       "                    <summary>dict</summary>\n",
       "                    \n",
       "                <div>\n",
       "                  <span class=\"tskit-details-label\">SLiM:</span>\n",
       "                  <details >\n",
       "                    <summary>dict</summary>\n",
       "                    file_version: 0.6<br/>generation: 20001<br/>model_type: WF<br/>nucleotide_based: False<br/>separate_sexes: False<br/>spatial_dimensionality: <br/>spatial_periodicity: <br/>stage: late<br/>\n",
       "                <div>\n",
       "                  <span class=\"tskit-details-label\">user_metadata:</span>\n",
       "                  <details >\n",
       "                    <summary>dict</summary>\n",
       "                    \n",
       "                <div>\n",
       "                  <span class=\"tskit-details-label\">slendr:</span>\n",
       "                  <details >\n",
       "                    <summary>list</summary>\n",
       "                    \n",
       "                <div>\n",
       "                  <span class=\"tskit-details-label\"></span>\n",
       "                  <details >\n",
       "                    <summary>dict</summary>\n",
       "                    \n",
       "                <div>\n",
       "                  <span class=\"tskit-details-label\">arguments:</span>\n",
       "                  <details >\n",
       "                    <summary>list</summary>\n",
       "                    \n",
       "                <div>\n",
       "                  <span class=\"tskit-details-label\"></span>\n",
       "                  <details >\n",
       "                    <summary>dict</summary>\n",
       "                    \n",
       "                <div>\n",
       "                  <span class=\"tskit-details-label\">BURNIN_LENGTH:</span>\n",
       "                  <details >\n",
       "                    <summary>list</summary>\n",
       "                     0<br/>\n",
       "                  </details>\n",
       "                </div>\n",
       "                <br/>\n",
       "                <div>\n",
       "                  <span class=\"tskit-details-label\">MAX_ATTEMPTS:</span>\n",
       "                  <details >\n",
       "                    <summary>list</summary>\n",
       "                     10<br/>\n",
       "                  </details>\n",
       "                </div>\n",
       "                <br/>\n",
       "                <div>\n",
       "                  <span class=\"tskit-details-label\">RECOMB_RATE:</span>\n",
       "                  <details >\n",
       "                    <summary>list</summary>\n",
       "                     1e-08<br/>\n",
       "                  </details>\n",
       "                </div>\n",
       "                <br/>\n",
       "                <div>\n",
       "                  <span class=\"tskit-details-label\">SEED:</span>\n",
       "                  <details >\n",
       "                    <summary>list</summary>\n",
       "                     314159265<br/>\n",
       "                  </details>\n",
       "                </div>\n",
       "                <br/>\n",
       "                <div>\n",
       "                  <span class=\"tskit-details-label\">SEQUENCE_LENGTH:</span>\n",
       "                  <details >\n",
       "                    <summary>list</summary>\n",
       "                     100000000<br/>\n",
       "                  </details>\n",
       "                </div>\n",
       "                <br/>\n",
       "                <div>\n",
       "                  <span class=\"tskit-details-label\">SIMULATION_LENGTH:</span>\n",
       "                  <details >\n",
       "                    <summary>list</summary>\n",
       "                     20000<br/>\n",
       "                  </details>\n",
       "                </div>\n",
       "                <br/>\n",
       "                  </details>\n",
       "                </div>\n",
       "                <br/>\n",
       "                  </details>\n",
       "                </div>\n",
       "                <br/>\n",
       "                <div>\n",
       "                  <span class=\"tskit-details-label\">backend:</span>\n",
       "                  <details >\n",
       "                    <summary>list</summary>\n",
       "                     SLiM<br/>\n",
       "                  </details>\n",
       "                </div>\n",
       "                <br/>\n",
       "                <div>\n",
       "                  <span class=\"tskit-details-label\">description:</span>\n",
       "                  <details >\n",
       "                    <summary>list</summary>\n",
       "                     <br/>\n",
       "                  </details>\n",
       "                </div>\n",
       "                <br/>\n",
       "                <div>\n",
       "                  <span class=\"tskit-details-label\">sampling:</span>\n",
       "                  <details >\n",
       "                    <summary>list</summary>\n",
       "                    \n",
       "                <div>\n",
       "                  <span class=\"tskit-details-label\"></span>\n",
       "                  <details >\n",
       "                    <summary>dict</summary>\n",
       "                    \n",
       "                <div>\n",
       "                  <span class=\"tskit-details-label\">n:</span>\n",
       "                  <details >\n",
       "                    <summary>list</summary>\n",
       "                     1.0<br/> 1.0<br/> 1.0<br/> 1.0<br/> 1.0<br/> 1.0<br/> 1.0<br/> 1.0<br/> 1.0<br/> 1.0<br/> 1.0<br/> 1.0<br/> 1.0<br/> 1.0<br/> 1.0<br/> 1.0<br/> 1.0<br/> 1.0<br/> 1.0<br/> 1.0<br/> 1.0<br/> 1.0<br/> 1.0<br/> 1.0<br/> 1.0<br/> 1.0<br/> 1.0<br/> 1.0<br/> 1.0<br/> 1.0<br/> 1.0<br/> 1.0<br/> 1.0<br/> 1.0<br/> 1.0<br/> 1.0<br/> 1.0<br/> 1.0<br/> 1.0<br/> 1.0<br/> 1.0<br/> 1.0<br/> 1.0<br/> 1.0<br/> 1.0<br/> 1.0<br/> 1.0<br/> 1.0<br/> 1.0<br/> 1.0<br/> 1.0<br/> 1.0<br/> 1.0<br/> 1.0<br/> 1.0<br/> 1.0<br/> 1.0<br/> 1.0<br/> 1.0<br/> 1.0<br/> 1.0<br/> 1.0<br/> 1.0<br/> 1.0<br/> 1.0<br/> 1.0<br/> 1.0<br/> 1.0<br/> 1.0<br/> 1.0<br/> 1.0<br/> 1.0<br/> 1.0<br/> 1.0<br/> 1.0<br/> 1.0<br/> 1.0<br/> 1.0<br/> 1.0<br/> 1.0<br/> 300.0<br/> 100.0<br/> 100.0<br/>\n",
       "                  </details>\n",
       "                </div>\n",
       "                <br/>\n",
       "                <div>\n",
       "                  <span class=\"tskit-details-label\">pop:</span>\n",
       "                  <details >\n",
       "                    <summary>list</summary>\n",
       "                     NEA<br/> EUR1<br/> EUR2<br/> NEA<br/> EUR1<br/> EUR2<br/> EUR1<br/> EUR2<br/> EUR1<br/> EUR2<br/> EUR1<br/> EUR2<br/> EUR1<br/> EUR2<br/> EUR1<br/> EUR2<br/> EUR1<br/> EUR2<br/> EUR1<br/> EUR2<br/> EUR1<br/> EUR2<br/> EUR1<br/> EUR2<br/> EUR1<br/> EUR2<br/> EUR1<br/> EUR2<br/> EUR1<br/> EUR2<br/> EUR1<br/> EUR2<br/> EUR1<br/> EUR2<br/> EUR1<br/> EUR2<br/> EUR1<br/> EUR2<br/> EUR1<br/> EUR2<br/> EUR1<br/> EUR2<br/> EUR1<br/> EUR2<br/> EUR1<br/> EUR2<br/> EUR1<br/> EUR2<br/> EUR1<br/> EUR2<br/> EUR1<br/> EUR2<br/> EUR1<br/> EUR2<br/> EUR1<br/> EUR2<br/> EUR1<br/> EUR2<br/> EUR1<br/> EUR2<br/> EUR1<br/> EUR2<br/> EUR1<br/> EUR2<br/> EUR1<br/> EUR2<br/> EUR1<br/> EUR2<br/> EUR1<br/> EUR2<br/> EUR1<br/> EUR2<br/> EUR1<br/> EUR2<br/> EUR1<br/> EUR2<br/> EUR1<br/> EUR2<br/> EUR1<br/> EUR2<br/> AFR<br/> EUR1<br/> EUR2<br/>\n",
       "                  </details>\n",
       "                </div>\n",
       "                <br/>\n",
       "                <div>\n",
       "                  <span class=\"tskit-details-label\">time_gen:</span>\n",
       "                  <details >\n",
       "                    <summary>list</summary>\n",
       "                     17668<br/> 18668<br/> 18668<br/> 18668<br/> 18701<br/> 18701<br/> 18734<br/> 18734<br/> 18768<br/> 18768<br/> 18801<br/> 18801<br/> 18834<br/> 18834<br/> 18868<br/> 18868<br/> 18901<br/> 18901<br/> 18934<br/> 18934<br/> 18968<br/> 18968<br/> 19001<br/> 19001<br/> 19034<br/> 19034<br/> 19068<br/> 19068<br/> 19101<br/> 19101<br/> 19134<br/> 19134<br/> 19168<br/> 19168<br/> 19201<br/> 19201<br/> 19234<br/> 19234<br/> 19268<br/> 19268<br/> 19301<br/> 19301<br/> 19334<br/> 19334<br/> 19368<br/> 19368<br/> 19401<br/> 19401<br/> 19434<br/> 19434<br/> 19468<br/> 19468<br/> 19501<br/> 19501<br/> 19534<br/> 19534<br/> 19568<br/> 19568<br/> 19601<br/> 19601<br/> 19634<br/> 19634<br/> 19668<br/> 19668<br/> 19701<br/> 19701<br/> 19734<br/> 19734<br/> 19768<br/> 19768<br/> 19801<br/> 19801<br/> 19834<br/> 19834<br/> 19868<br/> 19868<br/> 19901<br/> 19901<br/> 19934<br/> 19934<br/> 20001<br/> 20001<br/> 20001<br/>\n",
       "                  </details>\n",
       "                </div>\n",
       "                <br/>\n",
       "                <div>\n",
       "                  <span class=\"tskit-details-label\">time_orig:</span>\n",
       "                  <details >\n",
       "                    <summary>list</summary>\n",
       "                     70000<br/> 40000<br/> 40000<br/> 40000<br/> 39000<br/> 39000<br/> 38000<br/> 38000<br/> 37000<br/> 37000<br/> 36000<br/> 36000<br/> 35000<br/> 35000<br/> 34000<br/> 34000<br/> 33000<br/> 33000<br/> 32000<br/> 32000<br/> 31000<br/> 31000<br/> 30000<br/> 30000<br/> 29000<br/> 29000<br/> 28000<br/> 28000<br/> 27000<br/> 27000<br/> 26000<br/> 26000<br/> 25000<br/> 25000<br/> 24000<br/> 24000<br/> 23000<br/> 23000<br/> 22000<br/> 22000<br/> 21000<br/> 21000<br/> 20000<br/> 20000<br/> 19000<br/> 19000<br/> 18000<br/> 18000<br/> 17000<br/> 17000<br/> 16000<br/> 16000<br/> 15000<br/> 15000<br/> 14000<br/> 14000<br/> 13000<br/> 13000<br/> 12000<br/> 12000<br/> 11000<br/> 11000<br/> 10000<br/> 10000<br/> 9000<br/> 9000<br/> 8000<br/> 8000<br/> 7000<br/> 7000<br/> 6000<br/> 6000<br/> 5000<br/> 5000<br/> 4000<br/> 4000<br/> 3000<br/> 3000<br/> 2000<br/> 2000<br/> 0<br/> 0<br/> 0<br/>\n",
       "                  </details>\n",
       "                </div>\n",
       "                <br/>\n",
       "                  </details>\n",
       "                </div>\n",
       "                <br/>\n",
       "                  </details>\n",
       "                </div>\n",
       "                <br/>\n",
       "                <div>\n",
       "                  <span class=\"tskit-details-label\">version:</span>\n",
       "                  <details >\n",
       "                    <summary>list</summary>\n",
       "                     slendr_0.0.0.9000<br/>\n",
       "                  </details>\n",
       "                </div>\n",
       "                <br/>\n",
       "                  </details>\n",
       "                </div>\n",
       "                <br/>\n",
       "                  </details>\n",
       "                </div>\n",
       "                <br/>\n",
       "                  </details>\n",
       "                </div>\n",
       "                <br/>\n",
       "                  </details>\n",
       "                </div>\n",
       "                <br/>\n",
       "                  </details>\n",
       "                </div>\n",
       "                </td></tr>\n",
       "                    </tbody>\n",
       "                  </table>\n",
       "                </div>\n",
       "                <div class=\"tskit-table-set-table\">\n",
       "                  <table class=\"tskit-table\">\n",
       "                    <thead>\n",
       "                      <tr>\n",
       "                        <th style=\"line-height:21px;\">Table</th>\n",
       "                        <th>Rows</th>\n",
       "                        <th>Size</th>\n",
       "                        <th>Has Metadata</th>\n",
       "                      </tr>\n",
       "                    </thead>\n",
       "                    <tbody>\n",
       "                    \n",
       "                  <tr>\n",
       "                    <td>Edges</td>\n",
       "                      <td>1589409</td>\n",
       "                      <td>42.4 MiB</td>\n",
       "                      <td style=\"text-align: center;\">\n",
       "                        \n",
       "                      </td>\n",
       "                    </tr>\n",
       "                \n",
       "                  <tr>\n",
       "                    <td>Individuals</td>\n",
       "                      <td>232863</td>\n",
       "                      <td>14.2 MiB</td>\n",
       "                      <td style=\"text-align: center;\">\n",
       "                        ✅\n",
       "                      </td>\n",
       "                    </tr>\n",
       "                \n",
       "                  <tr>\n",
       "                    <td>Migrations</td>\n",
       "                      <td>0</td>\n",
       "                      <td>4 Bytes</td>\n",
       "                      <td style=\"text-align: center;\">\n",
       "                        \n",
       "                      </td>\n",
       "                    </tr>\n",
       "                \n",
       "                  <tr>\n",
       "                    <td>Mutations</td>\n",
       "                      <td>0</td>\n",
       "                      <td>1.2 KiB</td>\n",
       "                      <td style=\"text-align: center;\">\n",
       "                        \n",
       "                      </td>\n",
       "                    </tr>\n",
       "                \n",
       "                  <tr>\n",
       "                    <td>Nodes</td>\n",
       "                      <td>235069</td>\n",
       "                      <td>7.6 MiB</td>\n",
       "                      <td style=\"text-align: center;\">\n",
       "                        ✅\n",
       "                      </td>\n",
       "                    </tr>\n",
       "                \n",
       "                  <tr>\n",
       "                    <td>Populations</td>\n",
       "                      <td>4</td>\n",
       "                      <td>3.1 KiB</td>\n",
       "                      <td style=\"text-align: center;\">\n",
       "                        ✅\n",
       "                      </td>\n",
       "                    </tr>\n",
       "                \n",
       "                  <tr>\n",
       "                    <td>Provenances</td>\n",
       "                      <td>2</td>\n",
       "                      <td>29.6 KiB</td>\n",
       "                      <td style=\"text-align: center;\">\n",
       "                        \n",
       "                      </td>\n",
       "                    </tr>\n",
       "                \n",
       "                  <tr>\n",
       "                    <td>Sites</td>\n",
       "                      <td>0</td>\n",
       "                      <td>8 Bytes</td>\n",
       "                      <td style=\"text-align: center;\">\n",
       "                        \n",
       "                      </td>\n",
       "                    </tr>\n",
       "                \n",
       "                    </tbody>\n",
       "                  </table>\n",
       "                </div>\n",
       "              </div>\n",
       "            </div>\n",
       "            "
      ],
      "text/plain": [
       "<pyslim.slim_tree_sequence.SlimTreeSequence at 0x7ff506cd7790>"
      ]
     },
     "execution_count": 5,
     "metadata": {},
     "output_type": "execute_result"
    }
   ],
   "source": [
    "remembered_nodes = list(chain.from_iterable(\n",
    "    ind.nodes for ind in ts.individuals()\n",
    "    if ind.flags & pyslim.INDIVIDUAL_REMEMBERED\n",
    "))\n",
    "\n",
    "ts = ts.simplify(remembered_nodes)\n",
    "\n",
    "ts"
   ]
  },
  {
   "cell_type": "code",
   "execution_count": 6,
   "metadata": {},
   "outputs": [],
   "source": [
    "def plot_tree(tree, populations, node_labels=None):\n",
    "    styles = []\n",
    "    # Create a style for each population, programmatically (or just type the string by hand)\n",
    "    for colour, p in zip([\"red\", \"black\", \"blue\", \"green\"], ts_small.populations()):\n",
    "        # target the symbols only (class \"sym\")\n",
    "        s = f\".node.p{p.id} > .sym \" + \"{\" + f\"fill: {colour}\" + \"}\"\n",
    "        styles.append(s)\n",
    "        name = populations.query(f\"pop_id == {p.id}\")[\"pop\"].values[0]\n",
    "        print(f'\"{s}\" applies to nodes from population {name} (id {p.id})')\n",
    "    css_string = \" \".join(styles)\n",
    "    print(f'CSS string applied:\\n    \"{css_string}\"')\n",
    "    node_labels = {} if not node_labels else node_labels\n",
    "    display(SVG(tree.draw_svg(size=(700, 400), node_labels=node_labels, style=css_string)))"
   ]
  },
  {
   "cell_type": "markdown",
   "metadata": {},
   "source": [
    "Iterate over all trees and detect those which indicate Neanderthal introgression into Eurasians:"
   ]
  },
  {
   "cell_type": "code",
   "execution_count": 7,
   "metadata": {},
   "outputs": [],
   "source": [
    "def get_introgressed_leaves(tree, neand_id):\n",
    "    start, end = tree.interval\n",
    "\n",
    "    admixed_list = []\n",
    "    for root in tree.roots:\n",
    "        # is the current root rooted in a Neanderthal population?\n",
    "        if tree.population(root) == neand_id:\n",
    "            # if it is, collect all non-Neanderthal nodes under this root\n",
    "            # (these are Eurasians carrying Neanderthal introgression at this locus)\n",
    "            admixed = [node for node in tree.leaves(root)\n",
    "                       if tree.population(node) != neand_id]\n",
    "            admixed_list.extend(admixed)\n",
    "\n",
    "    return admixed_list"
   ]
  },
  {
   "cell_type": "code",
   "execution_count": 8,
   "metadata": {},
   "outputs": [],
   "source": [
    "def detect_introgression(ts, neand_id):\n",
    "    result = []\n",
    "\n",
    "    for tree in tqdm.notebook.tqdm_notebook(ts.trees()):\n",
    "        leaves = get_introgressed_leaves(tree, neand_id)\n",
    "        start, end = tree.interval\n",
    "        result.append((int(start), int(end), leaves))\n",
    "\n",
    "    segments = pandas.DataFrame(result, columns=[\"start\", \"end\", \"node\"]) \\\n",
    "        .explode(\"node\") \\\n",
    "        .dropna() \\\n",
    "        .sort_values(by=[\"node\", \"start\"]) \\\n",
    "        .reset_index(drop=True) \\\n",
    "    \n",
    "    return segments"
   ]
  },
  {
   "cell_type": "code",
   "execution_count": 9,
   "metadata": {},
   "outputs": [],
   "source": [
    "def merge_adjacent(segments):\n",
    "    all_merged = []\n",
    "\n",
    "    for node in tqdm.notebook.tqdm_notebook(segments.node.unique()):\n",
    "        node_segments = []\n",
    "\n",
    "        for i, seg in enumerate(segments.query(f\"node == {node}\").itertuples()):\n",
    "            if i == 0: # initialize detection of continuous segments with the first segment\n",
    "                segment_start, prev_end = seg.start, seg.end\n",
    "            elif seg.start == prev_end: # the current segment starts where the previous ended -- continue\n",
    "                prev_end = seg.end\n",
    "            else: # end the continuous segment, start a new one\n",
    "                node_segments.append((segment_start, prev_end, node))\n",
    "                segment_start, prev_end = seg.start, seg.end\n",
    "\n",
    "        # close the last remaining segment\n",
    "        node_segments.append((segment_start, seg.end, node))\n",
    "\n",
    "        all_merged.append(node_segments)\n",
    "\n",
    "    all_merged = list(chain.from_iterable(all_merged))\n",
    "\n",
    "    segments = pandas.DataFrame(all_merged, columns=[\"start\", \"end\", \"node\"]) \\\n",
    "        .sort_values(by=[\"node\", \"start\"]) \\\n",
    "        .reset_index(drop=True)\n",
    "\n",
    "    return segments"
   ]
  },
  {
   "cell_type": "code",
   "execution_count": 10,
   "metadata": {},
   "outputs": [
    {
     "data": {
      "application/vnd.jupyter.widget-view+json": {
       "model_id": "8dcb1b9a570f4d4caa6675897b79ea4b",
       "version_major": 2,
       "version_minor": 0
      },
      "text/plain": [
       "  0%|          | 0/421237 [00:00<?, ?it/s]"
      ]
     },
     "metadata": {},
     "output_type": "display_data"
    }
   ],
   "source": [
    "segments = detect_introgression(ts, neand_id=0)"
   ]
  },
  {
   "cell_type": "code",
   "execution_count": 11,
   "metadata": {},
   "outputs": [
    {
     "data": {
      "text/plain": [
       "556"
      ]
     },
     "execution_count": 11,
     "metadata": {},
     "output_type": "execute_result"
    }
   ],
   "source": [
    "len(segments.node.unique())"
   ]
  },
  {
   "cell_type": "raw",
   "metadata": {},
   "source": [
    "all_nodes = sorted(segments.node.unique())\n",
    "subset_nodes = random.sample(all_nodes, 5)\n",
    "\n",
    "segments = segments.loc[segments[\"node\"].isin(subset_nodes)].reset_index(drop=True)\n",
    "\n",
    "len(segments.node.unique())"
   ]
  },
  {
   "cell_type": "code",
   "execution_count": 12,
   "metadata": {},
   "outputs": [
    {
     "data": {
      "application/vnd.jupyter.widget-view+json": {
       "model_id": "07ce20cf6ffc49e5a04099be04f93743",
       "version_major": 2,
       "version_minor": 0
      },
      "text/plain": [
       "  0%|          | 0/556 [00:00<?, ?it/s]"
      ]
     },
     "metadata": {},
     "output_type": "display_data"
    }
   ],
   "source": [
    "merged_segments = merge_adjacent(segments)"
   ]
  },
  {
   "cell_type": "code",
   "execution_count": 13,
   "metadata": {},
   "outputs": [
    {
     "data": {
      "text/plain": [
       "556"
      ]
     },
     "execution_count": 13,
     "metadata": {},
     "output_type": "execute_result"
    }
   ],
   "source": [
    "len(merged_segments.node.unique())"
   ]
  },
  {
   "cell_type": "markdown",
   "metadata": {
    "tags": []
   },
   "source": [
    "## Plots of the \"maps\" of Neanderthal tracts in selected chromosomes\n",
    "\n",
    "Let's make sure that the original segments and the merged adjacent segments are exactly the same:"
   ]
  },
  {
   "cell_type": "code",
   "execution_count": 14,
   "metadata": {},
   "outputs": [],
   "source": [
    "def plot_segments(df, nodes, size, pdf=None):\n",
    "    subset_segments = df.loc[df[\"node\"].isin(nodes)]\n",
    "\n",
    "    fig, ax = plt.subplots(figsize=size)\n",
    "\n",
    "    ax.set_title(\"Positions of Neanderthal ancestry segments in a random pool of simulated EUR chromosomes\")\n",
    "    ax.set_ylabel(\"simulated EUR chromosome ID #\")\n",
    "    ax.set_xlabel(\"position along the chromosome [bp]\")\n",
    "\n",
    "    ax.set_ylim(1, len(nodes))\n",
    "    ax.set_yticks(range(1, len(nodes) + 1))\n",
    "    ax.set_yticklabels(nodes)\n",
    "\n",
    "    positions = numpy.linspace(0, 100e6, 11)\n",
    "    ax.set_xticks(positions)\n",
    "    ax.set_xticklabels([f\"{i/1e6}\" for i in positions])\n",
    "\n",
    "    for i, node in enumerate(nodes, start=1):\n",
    "        node_segments = df.query(f\"node == {node}\")\n",
    "\n",
    "        for segment in node_segments.itertuples():\n",
    "            ax.hlines(y=i, xmin=segment.start, xmax=segment.end, linewidth=10, color='b')\n",
    "        neand_proportion = (node_segments.end - node_segments.start).sum()/100e6\n",
    "\n",
    "        print(f\"True archaic ancestry on EUR chromosome ID #{node}: {100 * neand_proportion:.3f}%\")\n",
    "\n",
    "    plt.show()\n",
    "\n",
    "    if pdf: fig.savefig(pdf)"
   ]
  },
  {
   "cell_type": "code",
   "execution_count": 15,
   "metadata": {},
   "outputs": [],
   "source": [
    "subset_nodes = sorted(random.sample(list(segments.node.unique()), 20))"
   ]
  },
  {
   "cell_type": "code",
   "execution_count": 16,
   "metadata": {},
   "outputs": [
    {
     "name": "stdout",
     "output_type": "stream",
     "text": [
      "True archaic ancestry on EUR chromosome ID #621: 2.195%\n",
      "True archaic ancestry on EUR chromosome ID #626: 2.527%\n",
      "True archaic ancestry on EUR chromosome ID #642: 2.127%\n",
      "True archaic ancestry on EUR chromosome ID #656: 2.385%\n",
      "True archaic ancestry on EUR chromosome ID #671: 2.242%\n",
      "True archaic ancestry on EUR chromosome ID #703: 2.922%\n",
      "True archaic ancestry on EUR chromosome ID #732: 2.656%\n",
      "True archaic ancestry on EUR chromosome ID #763: 2.006%\n",
      "True archaic ancestry on EUR chromosome ID #785: 2.519%\n",
      "True archaic ancestry on EUR chromosome ID #798: 2.545%\n",
      "True archaic ancestry on EUR chromosome ID #830: 4.078%\n",
      "True archaic ancestry on EUR chromosome ID #862: 3.471%\n",
      "True archaic ancestry on EUR chromosome ID #893: 3.050%\n",
      "True archaic ancestry on EUR chromosome ID #926: 3.751%\n",
      "True archaic ancestry on EUR chromosome ID #956: 3.861%\n",
      "True archaic ancestry on EUR chromosome ID #966: 4.149%\n",
      "True archaic ancestry on EUR chromosome ID #1082: 5.663%\n",
      "True archaic ancestry on EUR chromosome ID #1117: 2.018%\n",
      "True archaic ancestry on EUR chromosome ID #1149: 3.387%\n",
      "True archaic ancestry on EUR chromosome ID #1152: 3.280%\n"
     ]
    },
    {
     "data": {
      "image/png": "[encoded data removed]",
      "text/plain": [
       "<Figure size 2160x720 with 1 Axes>"
      ]
     },
     "metadata": {
      "needs_background": "light"
     },
     "output_type": "display_data"
    }
   ],
   "source": [
    "plot_segments(segments, nodes=subset_nodes, size=(30, 10))"
   ]
  },
  {
   "cell_type": "code",
   "execution_count": 17,
   "metadata": {},
   "outputs": [
    {
     "name": "stdout",
     "output_type": "stream",
     "text": [
      "True archaic ancestry on EUR chromosome ID #621: 2.195%\n",
      "True archaic ancestry on EUR chromosome ID #626: 2.527%\n",
      "True archaic ancestry on EUR chromosome ID #642: 2.127%\n",
      "True archaic ancestry on EUR chromosome ID #656: 2.385%\n",
      "True archaic ancestry on EUR chromosome ID #671: 2.242%\n",
      "True archaic ancestry on EUR chromosome ID #703: 2.922%\n",
      "True archaic ancestry on EUR chromosome ID #732: 2.656%\n",
      "True archaic ancestry on EUR chromosome ID #763: 2.006%\n",
      "True archaic ancestry on EUR chromosome ID #785: 2.519%\n",
      "True archaic ancestry on EUR chromosome ID #798: 2.545%\n",
      "True archaic ancestry on EUR chromosome ID #830: 4.078%\n",
      "True archaic ancestry on EUR chromosome ID #862: 3.471%\n",
      "True archaic ancestry on EUR chromosome ID #893: 3.050%\n",
      "True archaic ancestry on EUR chromosome ID #926: 3.751%\n",
      "True archaic ancestry on EUR chromosome ID #956: 3.861%\n",
      "True archaic ancestry on EUR chromosome ID #966: 4.149%\n",
      "True archaic ancestry on EUR chromosome ID #1082: 5.663%\n",
      "True archaic ancestry on EUR chromosome ID #1117: 2.018%\n",
      "True archaic ancestry on EUR chromosome ID #1149: 3.387%\n",
      "True archaic ancestry on EUR chromosome ID #1152: 3.280%\n"
     ]
    },
    {
     "data": {
      "image/png": "[encoded data removed]",
      "text/plain": [
       "<Figure size 2160x720 with 1 Axes>"
      ]
     },
     "metadata": {
      "needs_background": "light"
     },
     "output_type": "display_data"
    }
   ],
   "source": [
    "plot_segments(merged_segments, nodes=subset_nodes, size=(30, 10))"
   ]
  },
  {
   "cell_type": "markdown",
   "metadata": {},
   "source": [
    "## Plotting trees showing Neanderthal introgression"
   ]
  },
  {
   "cell_type": "markdown",
   "metadata": {},
   "source": [
    "Extract only a subset of all nodes from all populations for easier plotting of trees:"
   ]
  },
  {
   "cell_type": "code",
   "execution_count": 18,
   "metadata": {},
   "outputs": [],
   "source": [
    "neand_nodes = list(ts.samples(population=populations.query(\"pop == 'NEA'\").pop_id.values))\n",
    "\n",
    "afr_nodes = random.sample(list(ts.samples(population=populations.query(\"pop == 'AFR'\").pop_id.values)), 10)\n",
    "\n",
    "eur_nodes = random.sample(list(merged_segments.node.unique()), 30)"
   ]
  },
  {
   "cell_type": "code",
   "execution_count": 19,
   "metadata": {},
   "outputs": [],
   "source": [
    "ts_small = ts.simplify(neand_nodes + afr_nodes + eur_nodes)"
   ]
  },
  {
   "cell_type": "markdown",
   "metadata": {},
   "source": [
    "Now, let's eyeball the Neanderthal \"map\" above for a region where nobody seems to have Neanderthal introgression:"
   ]
  },
  {
   "cell_type": "code",
   "execution_count": 20,
   "metadata": {},
   "outputs": [
    {
     "name": "stdout",
     "output_type": "stream",
     "text": [
      "\".node.p0 > .sym {fill: red}\" applies to nodes from population NEA (id 0)\n",
      "\".node.p1 > .sym {fill: black}\" applies to nodes from population AFR (id 1)\n",
      "\".node.p2 > .sym {fill: blue}\" applies to nodes from population EUR1 (id 2)\n",
      "\".node.p3 > .sym {fill: green}\" applies to nodes from population EUR2 (id 3)\n",
      "CSS string applied:\n",
      "    \".node.p0 > .sym {fill: red} .node.p1 > .sym {fill: black} .node.p2 > .sym {fill: blue} .node.p3 > .sym {fill: green}\"\n"
     ]
    },
    {
     "data": {
      "image/svg+xml": [
       "<svg xmlns=\"http://www.w3.org/2000/svg\" xmlns:ev=\"http://www.w3.org/2001/xml-events\" xmlns:xlink=\"http://www.w3.org/1999/xlink\" baseProfile=\"full\" height=\"400\" version=\"1.1\" width=\"700\"><defs><style type=\"text/css\"><![CDATA[.background path {fill: #808080; fill-opacity: 0}.background path:nth-child(odd) {fill-opacity: .1}.axes {font-size: 14px}.x-axis .tick .lab {font-weight: bold; dominant-baseline: hanging}.axes, .tree {font-size: 14px; text-anchor: middle}.axes line, .edge {stroke: black; fill: none}.y-axis .grid {stroke: #FAFAFA}.node > .sym {fill: black; stroke: none}.site > .sym {stroke: black}.mut text {fill: red; font-style: italic}.mut.extra text {fill: hotpink}.mut line {fill: none; stroke: none}.mut .sym {fill: none; stroke: red}.mut.extra .sym {stroke: hotpink}.node .mut .sym {stroke-width: 1.5px}.tree text, .tree-sequence text {dominant-baseline: central}.plotbox .lab.lft {text-anchor: end}.plotbox .lab.rgt {text-anchor: start}.node.p0 > .sym {fill: red} .node.p1 > .sym {fill: black} .node.p2 > .sym {fill: blue} .node.p3 > .sym {fill: green}]]></style></defs><g class=\"tree t10787\"><g class=\"plotbox\"><g class=\"c2 i21386 node n53175 p1 root\" transform=\"translate(105.43 62.0537)\"><g class=\"a53175 c2 i26429 node n48134 p1\" transform=\"translate(55.1953 56.9784)\"><g class=\"a48134 c2 i68481 node n6024 p2\" transform=\"translate(20.625 210.15)\"><g class=\"a6024 i72751 leaf node n33 p2 sample\" transform=\"translate(11.25 19.4111)\"><path class=\"edge\" d=\"M 0 0 V -19.4111 H -11.25\"/><rect class=\"sym\" height=\"6\" width=\"6\" x=\"-3\" y=\"-3\"/><text class=\"lab\" transform=\"translate(0 11)\"/></g><g class=\"a6024 c2 i72844 node n1670 p2\" transform=\"translate(-11.25 19.9993)\"><g class=\"a1670 i74334 leaf node n27 p2 sample\" transform=\"translate(-7.5 13.8034)\"><path class=\"edge\" d=\"M 0 0 V -13.8034 H 7.5\"/><rect class=\"sym\" height=\"6\" width=\"6\" x=\"-3\" y=\"-3\"/><text class=\"lab\" transform=\"translate(0 11)\"/></g><g class=\"a1670 i74334 leaf node n28 p2 sample\" transform=\"translate(7.5 13.8034)\"><path class=\"edge\" d=\"M 0 0 V -13.8034 H -7.5\"/><rect class=\"sym\" height=\"6\" width=\"6\" x=\"-3\" y=\"-3\"/><text class=\"lab\" transform=\"translate(0 11)\"/></g><path class=\"edge\" d=\"M 0 0 V -19.9993 H 11.25\"/><circle class=\"sym\" cx=\"0\" cy=\"0\" r=\"3\"/><text class=\"lab lft\" transform=\"translate(-3 -7.0)\"/></g><path class=\"edge\" d=\"M 0 0 V -210.15 H -20.625\"/><circle class=\"sym\" cx=\"0\" cy=\"0\" r=\"3\"/><text class=\"lab rgt\" transform=\"translate(3 -7.0)\"/></g><g class=\"a48134 c2 i51667 node n22868 p1\" transform=\"translate(-20.625 153.838)\"><g class=\"a22868 i5 leaf node n9 p1 sample\" transform=\"translate(-7.5 95.33)\"><path class=\"edge\" d=\"M 0 0 V -95.33 H 7.5\"/><rect class=\"sym\" height=\"6\" width=\"6\" x=\"-3\" y=\"-3\"/><text class=\"lab\" transform=\"translate(0 11)\"/></g><g class=\"a22868 i24 leaf node n18 p3 sample\" transform=\"translate(7.5 95.33)\"><path class=\"edge\" d=\"M 0 0 V -95.33 H -7.5\"/><rect class=\"sym\" height=\"6\" width=\"6\" x=\"-3\" y=\"-3\"/><text class=\"lab\" transform=\"translate(0 11)\"/></g><path class=\"edge\" d=\"M 0 0 V -153.838 H 20.625\"/><circle class=\"sym\" cx=\"0\" cy=\"0\" r=\"3\"/><text class=\"lab lft\" transform=\"translate(-3 -7.0)\"/></g><path class=\"edge\" d=\"M 0 0 V -56.9784 H -55.1953\"/><circle class=\"sym\" cx=\"0\" cy=\"0\" r=\"3\"/><text class=\"lab rgt\" transform=\"translate(3 -7.0)\"/></g><g class=\"a53175 c2 i41619 node n32935 p1\" transform=\"translate(-55.1953 168.582)\"><g class=\"a32935 i7 leaf node n6 p1 sample\" transform=\"translate(-22.7344 137.564)\"><path class=\"edge\" d=\"M 0 0 V -137.564 H 22.7344\"/><rect class=\"sym\" height=\"6\" width=\"6\" x=\"-3\" y=\"-3\"/><text class=\"lab\" transform=\"translate(0 11)\"/></g><g class=\"a32935 c2 i50434 node n24116 p1\" transform=\"translate(22.7344 38.0771)\"><g class=\"a24116 i0 leaf node n10 p1 sample\" transform=\"translate(-30.4688 99.4868)\"><path class=\"edge\" d=\"M 0 0 V -99.4868 H 30.4688\"/><rect class=\"sym\" height=\"6\" width=\"6\" x=\"-3\" y=\"-3\"/><text class=\"lab\" transform=\"translate(0 11)\"/></g><g class=\"a24116 c2 i59522 node n15008 p2\" transform=\"translate(30.4688 32.3518)\"><g class=\"a15008 i72532 leaf node n34 p2 sample\" transform=\"translate(14.0625 46.2337)\"><path class=\"edge\" d=\"M 0 0 V -46.2337 H -14.0625\"/><rect class=\"sym\" height=\"6\" width=\"6\" x=\"-3\" y=\"-3\"/><text class=\"lab\" transform=\"translate(0 11)\"/></g><g class=\"a15008 c2 i70457 node n4044 p2\" transform=\"translate(-14.0625 35.8419)\"><g class=\"a4044 i11 leaf node n35 p2 sample\" transform=\"translate(13.125 31.293)\"><path class=\"edge\" d=\"M 0 0 V -31.293 H -13.125\"/><rect class=\"sym\" height=\"6\" width=\"6\" x=\"-3\" y=\"-3\"/><text class=\"lab\" transform=\"translate(0 11)\"/></g><g class=\"a4044 c2 i72884 node n1629 p2\" transform=\"translate(-13.125 12.5486)\"><g class=\"a1629 i12 leaf node n20 p2 sample\" transform=\"translate(11.25 18.7445)\"><path class=\"edge\" d=\"M 0 0 V -18.7445 H -11.25\"/><rect class=\"sym\" height=\"6\" width=\"6\" x=\"-3\" y=\"-3\"/><text class=\"lab\" transform=\"translate(0 11)\"/></g><g class=\"a1629 c2 i74027 node n488 p2\" transform=\"translate(-11.25 9.2938)\"><g class=\"a488 i74180 leaf node n16 p2 sample\" transform=\"translate(-7.5 1.60779)\"><path class=\"edge\" d=\"M 0 0 V -1.60779 H 7.5\"/><rect class=\"sym\" height=\"6\" width=\"6\" x=\"-3\" y=\"-3\"/><text class=\"lab\" transform=\"translate(0 11)\"/></g><g class=\"a488 i14 leaf node n23 p2 sample\" transform=\"translate(7.5 9.45065)\"><path class=\"edge\" d=\"M 0 0 V -9.45065 H -7.5\"/><rect class=\"sym\" height=\"6\" width=\"6\" x=\"-3\" y=\"-3\"/><text class=\"lab\" transform=\"translate(0 11)\"/></g><path class=\"edge\" d=\"M 0 0 V -9.2938 H 11.25\"/><circle class=\"sym\" cx=\"0\" cy=\"0\" r=\"3\"/><text class=\"lab lft\" transform=\"translate(-3 -7.0)\"/></g><path class=\"edge\" d=\"M 0 0 V -12.5486 H 13.125\"/><circle class=\"sym\" cx=\"0\" cy=\"0\" r=\"3\"/><text class=\"lab lft\" transform=\"translate(-3 -7.0)\"/></g><path class=\"edge\" d=\"M 0 0 V -35.8419 H 14.0625\"/><circle class=\"sym\" cx=\"0\" cy=\"0\" r=\"3\"/><text class=\"lab lft\" transform=\"translate(-3 -7.0)\"/></g><path class=\"edge\" d=\"M 0 0 V -32.3518 H -30.4688\"/><circle class=\"sym\" cx=\"0\" cy=\"0\" r=\"3\"/><text class=\"lab rgt\" transform=\"translate(3 -7.0)\"/></g><path class=\"edge\" d=\"M 0 0 V -38.0771 H -22.7344\"/><circle class=\"sym\" cx=\"0\" cy=\"0\" r=\"3\"/><text class=\"lab rgt\" transform=\"translate(3 -7.0)\"/></g><path class=\"edge\" d=\"M 0 0 V -168.582 H 55.1953\"/><circle class=\"sym\" cx=\"0\" cy=\"0\" r=\"3\"/><text class=\"lab lft\" transform=\"translate(-3 -7.0)\"/></g><circle class=\"sym\" cx=\"0\" cy=\"0\" r=\"3\"/><text class=\"lab\" transform=\"translate(0 -11)\"/></g><g class=\"c2 i18849 node n55715 p1 root\" transform=\"translate(535.127 26.8)\"><g class=\"a55715 c2 i28192 node n46381 p1\" transform=\"translate(-69.873 108.977)\"><g class=\"a46381 c2 i29039 node n45529 p1\" transform=\"translate(-88.1836 7.76444)\"><g class=\"a45529 c2 i53241 node n21305 p2\" transform=\"translate(68.5547 134.78)\"><g class=\"a21305 i65555 leaf node n26 p2 sample\" transform=\"translate(16.875 40.1947)\"><path class=\"edge\" d=\"M 0 0 V -40.1947 H -16.875\"/><rect class=\"sym\" height=\"6\" width=\"6\" x=\"-3\" y=\"-3\"/><text class=\"lab\" transform=\"translate(0 11)\"/></g><g class=\"a21305 c2 i64302 node n10220 p3\" transform=\"translate(-16.875 36.0772)\"><g class=\"a10220 i21 leaf node n21 p3 sample\" transform=\"translate(-11.25 53.8021)\"><path class=\"edge\" d=\"M 0 0 V -53.8021 H 11.25\"/><rect class=\"sym\" height=\"6\" width=\"6\" x=\"-3\" y=\"-3\"/><text class=\"lab\" transform=\"translate(0 11)\"/></g><g class=\"a10220 c2 i73994 node n530 p3\" transform=\"translate(11.25 43.9985)\"><g class=\"a530 i19 leaf node n29 p3 sample\" transform=\"translate(-7.5 9.80358)\"><path class=\"edge\" d=\"M 0 0 V -9.80358 H 7.5\"/><rect class=\"sym\" height=\"6\" width=\"6\" x=\"-3\" y=\"-3\"/><text class=\"lab\" transform=\"translate(0 11)\"/></g><g class=\"a530 i17 leaf node n31 p3 sample\" transform=\"translate(7.5 9.80358)\"><path class=\"edge\" d=\"M 0 0 V -9.80358 H -7.5\"/><rect class=\"sym\" height=\"6\" width=\"6\" x=\"-3\" y=\"-3\"/><text class=\"lab\" transform=\"translate(0 11)\"/></g><path class=\"edge\" d=\"M 0 0 V -43.9985 H -11.25\"/><circle class=\"sym\" cx=\"0\" cy=\"0\" r=\"3\"/><text class=\"lab rgt\" transform=\"translate(3 -7.0)\"/></g><path class=\"edge\" d=\"M 0 0 V -36.0772 H 16.875\"/><circle class=\"sym\" cx=\"0\" cy=\"0\" r=\"3\"/><text class=\"lab lft\" transform=\"translate(-3 -7.0)\"/></g><path class=\"edge\" d=\"M 0 0 V -134.78 H -68.5547\"/><circle class=\"sym\" cx=\"0\" cy=\"0\" r=\"3\"/><text class=\"lab rgt\" transform=\"translate(3 -7.0)\"/></g><g class=\"a45529 c2 i38213 node n36344 p1\" transform=\"translate(-68.5547 67.4094)\"><g class=\"a36344 c2 i40583 node n33971 p1\" transform=\"translate(-41.9531 14.1564)\"><g class=\"a33971 c2 i40867 node n33680 p1\" transform=\"translate(-23.4375 1.72543)\"><g class=\"a33680 c2 i51801 node n22748 p1\" transform=\"translate(-16.875 46.4298)\"><g class=\"a22748 i18 leaf node n43 p3 sample\" transform=\"translate(11.25 94.9379)\"><path class=\"edge\" d=\"M 0 0 V -94.9379 H -11.25\"/><rect class=\"sym\" height=\"6\" width=\"6\" x=\"-3\" y=\"-3\"/><text class=\"lab\" transform=\"translate(0 11)\"/></g><g class=\"a22748 c2 i72954 node n1556 p1\" transform=\"translate(-11.25 76.6248)\"><g class=\"a1556 i3 leaf node n7 p1 sample\" transform=\"translate(7.5 18.3131)\"><path class=\"edge\" d=\"M 0 0 V -18.3131 H -7.5\"/><rect class=\"sym\" height=\"6\" width=\"6\" x=\"-3\" y=\"-3\"/><text class=\"lab\" transform=\"translate(0 11)\"/></g><g class=\"a1556 i9 leaf node n4 p1 sample\" transform=\"translate(-7.5 18.3131)\"><path class=\"edge\" d=\"M 0 0 V -18.3131 H 7.5\"/><rect class=\"sym\" height=\"6\" width=\"6\" x=\"-3\" y=\"-3\"/><text class=\"lab\" transform=\"translate(0 11)\"/></g><path class=\"edge\" d=\"M 0 0 V -76.6248 H 11.25\"/><circle class=\"sym\" cx=\"0\" cy=\"0\" r=\"3\"/><text class=\"lab lft\" transform=\"translate(-3 -7.0)\"/></g><path class=\"edge\" d=\"M 0 0 V -46.4298 H 16.875\"/><circle class=\"sym\" cx=\"0\" cy=\"0\" r=\"3\"/><text class=\"lab lft\" transform=\"translate(-3 -7.0)\"/></g><g class=\"a33680 c2 i50233 node n24306 p1\" transform=\"translate(16.875 41.2927)\"><g class=\"a24306 i1 leaf node n11 p1 sample\" transform=\"translate(-7.5 100.075)\"><path class=\"edge\" d=\"M 0 0 V -100.075 H 7.5\"/><rect class=\"sym\" height=\"6\" width=\"6\" x=\"-3\" y=\"-3\"/><text class=\"lab\" transform=\"translate(0 11)\"/></g><g class=\"a24306 i66679 leaf node n14 p2 sample\" transform=\"translate(7.5 54.3119)\"><path class=\"edge\" d=\"M 0 0 V -54.3119 H -7.5\"/><rect class=\"sym\" height=\"6\" width=\"6\" x=\"-3\" y=\"-3\"/><text class=\"lab\" transform=\"translate(0 11)\"/></g><path class=\"edge\" d=\"M 0 0 V -41.2927 H -16.875\"/><circle class=\"sym\" cx=\"0\" cy=\"0\" r=\"3\"/><text class=\"lab rgt\" transform=\"translate(3 -7.0)\"/></g><path class=\"edge\" d=\"M 0 0 V -1.72543 H 23.4375\"/><circle class=\"sym\" cx=\"0\" cy=\"0\" r=\"3\"/><text class=\"lab lft\" transform=\"translate(-3 -7.0)\"/></g><g class=\"a33971 c2 i49260 node n25301 p1\" transform=\"translate(23.4375 39.1751)\"><g class=\"a25301 i2 leaf node n13 p1 sample\" transform=\"translate(-7.5 103.918)\"><path class=\"edge\" d=\"M 0 0 V -103.918 H 7.5\"/><rect class=\"sym\" height=\"6\" width=\"6\" x=\"-3\" y=\"-3\"/><text class=\"lab\" transform=\"translate(0 11)\"/></g><g class=\"a25301 i71035 leaf node n19 p3 sample\" transform=\"translate(7.5 75.1739)\"><path class=\"edge\" d=\"M 0 0 V -75.1739 H -7.5\"/><rect class=\"sym\" height=\"6\" width=\"6\" x=\"-3\" y=\"-3\"/><text class=\"lab\" transform=\"translate(0 11)\"/></g><path class=\"edge\" d=\"M 0 0 V -39.1751 H -23.4375\"/><circle class=\"sym\" cx=\"0\" cy=\"0\" r=\"3\"/><text class=\"lab rgt\" transform=\"translate(3 -7.0)\"/></g><path class=\"edge\" d=\"M 0 0 V -14.1564 H 41.9531\"/><circle class=\"sym\" cx=\"0\" cy=\"0\" r=\"3\"/><text class=\"lab lft\" transform=\"translate(-3 -7.0)\"/></g><g class=\"a36344 c2 i43341 node n31206 p1\" transform=\"translate(41.9531 28.1559)\"><g class=\"a31206 c2 i45836 node n28724 p1\" transform=\"translate(30.4688 11.529)\"><g class=\"a28724 i69452 leaf node n22 p3 sample\" transform=\"translate(21.5625 82.2717)\"><path class=\"edge\" d=\"M 0 0 V -82.2717 H -21.5625\"/><rect class=\"sym\" height=\"6\" width=\"6\" x=\"-3\" y=\"-3\"/><text class=\"lab\" transform=\"translate(0 11)\"/></g><g class=\"a28724 c2 i50073 node n24474 p1\" transform=\"translate(-21.5625 16.7837)\"><g class=\"a24474 i4 leaf node n8 p1 sample\" transform=\"translate(-16.875 100.781)\"><path class=\"edge\" d=\"M 0 0 V -100.781 H 16.875\"/><rect class=\"sym\" height=\"6\" width=\"6\" x=\"-3\" y=\"-3\"/><text class=\"lab\" transform=\"translate(0 11)\"/></g><g class=\"a24474 c2 i58827 node n15705 p2\" transform=\"translate(16.875 31.5675)\"><g class=\"a15705 i70737 leaf node n42 p2 sample\" transform=\"translate(11.25 39.1359)\"><path class=\"edge\" d=\"M 0 0 V -39.1359 H -11.25\"/><rect class=\"sym\" height=\"6\" width=\"6\" x=\"-3\" y=\"-3\"/><text class=\"lab\" transform=\"translate(0 11)\"/></g><g class=\"a15705 c2 i71143 node n3370 p2\" transform=\"translate(-11.25 40.979)\"><g class=\"a3370 i13 leaf node n36 p2 sample\" transform=\"translate(-7.5 28.2343)\"><path class=\"edge\" d=\"M 0 0 V -28.2343 H 7.5\"/><rect class=\"sym\" height=\"6\" width=\"6\" x=\"-3\" y=\"-3\"/><text class=\"lab\" transform=\"translate(0 11)\"/></g><g class=\"a3370 i10 leaf node n39 p2 sample\" transform=\"translate(7.5 28.2343)\"><path class=\"edge\" d=\"M 0 0 V -28.2343 H -7.5\"/><rect class=\"sym\" height=\"6\" width=\"6\" x=\"-3\" y=\"-3\"/><text class=\"lab\" transform=\"translate(0 11)\"/></g><path class=\"edge\" d=\"M 0 0 V -40.979 H 11.25\"/><circle class=\"sym\" cx=\"0\" cy=\"0\" r=\"3\"/><text class=\"lab lft\" transform=\"translate(-3 -7.0)\"/></g><path class=\"edge\" d=\"M 0 0 V -31.5675 H -16.875\"/><circle class=\"sym\" cx=\"0\" cy=\"0\" r=\"3\"/><text class=\"lab rgt\" transform=\"translate(3 -7.0)\"/></g><path class=\"edge\" d=\"M 0 0 V -16.7837 H 21.5625\"/><circle class=\"sym\" cx=\"0\" cy=\"0\" r=\"3\"/><text class=\"lab lft\" transform=\"translate(-3 -7.0)\"/></g><path class=\"edge\" d=\"M 0 0 V -11.529 H -30.4688\"/><circle class=\"sym\" cx=\"0\" cy=\"0\" r=\"3\"/><text class=\"lab rgt\" transform=\"translate(3 -7.0)\"/></g><g class=\"a31206 c2 i55085 node n19445 p1\" transform=\"translate(-30.4688 46.6258)\"><g class=\"a19445 i8 leaf node n5 p1 sample\" transform=\"translate(-7.5 82.4677)\"><path class=\"edge\" d=\"M 0 0 V -82.4677 H 7.5\"/><rect class=\"sym\" height=\"6\" width=\"6\" x=\"-3\" y=\"-3\"/><text class=\"lab\" transform=\"translate(0 11)\"/></g><g class=\"a19445 i6 leaf node n12 p1 sample\" transform=\"translate(7.5 82.4677)\"><path class=\"edge\" d=\"M 0 0 V -82.4677 H -7.5\"/><rect class=\"sym\" height=\"6\" width=\"6\" x=\"-3\" y=\"-3\"/><text class=\"lab\" transform=\"translate(0 11)\"/></g><path class=\"edge\" d=\"M 0 0 V -46.6258 H 30.4688\"/><circle class=\"sym\" cx=\"0\" cy=\"0\" r=\"3\"/><text class=\"lab lft\" transform=\"translate(-3 -7.0)\"/></g><path class=\"edge\" d=\"M 0 0 V -28.1559 H -41.9531\"/><circle class=\"sym\" cx=\"0\" cy=\"0\" r=\"3\"/><text class=\"lab rgt\" transform=\"translate(3 -7.0)\"/></g><path class=\"edge\" d=\"M 0 0 V -67.4094 H 68.5547\"/><circle class=\"sym\" cx=\"0\" cy=\"0\" r=\"3\"/><text class=\"lab lft\" transform=\"translate(-3 -7.0)\"/></g><path class=\"edge\" d=\"M 0 0 V -7.76444 H 88.1836\"/><circle class=\"sym\" cx=\"0\" cy=\"0\" r=\"3\"/><text class=\"lab lft\" transform=\"translate(-3 -7.0)\"/></g><g class=\"a46381 c2 i41411 node n33138 p1\" transform=\"translate(88.1836 93.7615)\"><g class=\"a33138 i72060 leaf node n25 p2 sample\" transform=\"translate(29.0625 115.133)\"><path class=\"edge\" d=\"M 0 0 V -115.133 H -29.0625\"/><rect class=\"sym\" height=\"6\" width=\"6\" x=\"-3\" y=\"-3\"/><text class=\"lab\" transform=\"translate(0 11)\"/></g><g class=\"a33138 c2 i59920 node n14607 p2\" transform=\"translate(-29.0625 72.7034)\"><g class=\"a14607 c2 i70826 node n3690 p3\" transform=\"translate(-24.375 36.2733)\"><g class=\"a3690 c2 i73870 node n647 p3\" transform=\"translate(-15 18.666)\"><g class=\"a647 i22 leaf node n15 p3 sample\" transform=\"translate(-7.5 11.0192)\"><path class=\"edge\" d=\"M 0 0 V -11.0192 H 7.5\"/><rect class=\"sym\" height=\"6\" width=\"6\" x=\"-3\" y=\"-3\"/><text class=\"lab\" transform=\"translate(0 11)\"/></g><g class=\"a647 i20 leaf node n38 p3 sample\" transform=\"translate(7.5 11.0192)\"><path class=\"edge\" d=\"M 0 0 V -11.0192 H -7.5\"/><rect class=\"sym\" height=\"6\" width=\"6\" x=\"-3\" y=\"-3\"/><text class=\"lab\" transform=\"translate(0 11)\"/></g><path class=\"edge\" d=\"M 0 0 V -18.666 H 15\"/><circle class=\"sym\" cx=\"0\" cy=\"0\" r=\"3\"/><text class=\"lab lft\" transform=\"translate(-3 -7.0)\"/></g><g class=\"a3690 c2 i73676 node n844 p3\" transform=\"translate(15 16.7445)\"><g class=\"a844 i15 leaf node n30 p3 sample\" transform=\"translate(-7.5 12.9407)\"><path class=\"edge\" d=\"M 0 0 V -12.9407 H 7.5\"/><rect class=\"sym\" height=\"6\" width=\"6\" x=\"-3\" y=\"-3\"/><text class=\"lab\" transform=\"translate(0 11)\"/></g><g class=\"a844 i16 leaf node n40 p3 sample\" transform=\"translate(7.5 12.9407)\"><path class=\"edge\" d=\"M 0 0 V -12.9407 H -7.5\"/><rect class=\"sym\" height=\"6\" width=\"6\" x=\"-3\" y=\"-3\"/><text class=\"lab\" transform=\"translate(0 11)\"/></g><path class=\"edge\" d=\"M 0 0 V -16.7445 H -15\"/><circle class=\"sym\" cx=\"0\" cy=\"0\" r=\"3\"/><text class=\"lab rgt\" transform=\"translate(3 -7.0)\"/></g><path class=\"edge\" d=\"M 0 0 V -36.2733 H 24.375\"/><circle class=\"sym\" cx=\"0\" cy=\"0\" r=\"3\"/><text class=\"lab lft\" transform=\"translate(-3 -7.0)\"/></g><g class=\"a14607 c2 i63977 node n10548 p3\" transform=\"translate(24.375 10.9408)\"><g class=\"a10548 i67060 leaf node n24 p3 sample\" transform=\"translate(-11.25 10.5879)\"><path class=\"edge\" d=\"M 0 0 V -10.5879 H 11.25\"/><rect class=\"sym\" height=\"6\" width=\"6\" x=\"-3\" y=\"-3\"/><text class=\"lab\" transform=\"translate(0 11)\"/></g><g class=\"a10548 c2 i68306 node n6213 p3\" transform=\"translate(11.25 15.2936)\"><g class=\"a6213 i23 leaf node n41 p3 sample\" transform=\"translate(7.5 39.7241)\"><path class=\"edge\" d=\"M 0 0 V -39.7241 H -7.5\"/><rect class=\"sym\" height=\"6\" width=\"6\" x=\"-3\" y=\"-3\"/><text class=\"lab\" transform=\"translate(0 11)\"/></g><g class=\"a6213 i74181 leaf node n37 p3 sample\" transform=\"translate(-7.5 31.8813)\"><path class=\"edge\" d=\"M 0 0 V -31.8813 H 7.5\"/><rect class=\"sym\" height=\"6\" width=\"6\" x=\"-3\" y=\"-3\"/><text class=\"lab\" transform=\"translate(0 11)\"/></g><path class=\"edge\" d=\"M 0 0 V -15.2936 H -11.25\"/><circle class=\"sym\" cx=\"0\" cy=\"0\" r=\"3\"/><text class=\"lab rgt\" transform=\"translate(3 -7.0)\"/></g><path class=\"edge\" d=\"M 0 0 V -10.9408 H -24.375\"/><circle class=\"sym\" cx=\"0\" cy=\"0\" r=\"3\"/><text class=\"lab rgt\" transform=\"translate(3 -7.0)\"/></g><path class=\"edge\" d=\"M 0 0 V -72.7034 H 29.0625\"/><circle class=\"sym\" cx=\"0\" cy=\"0\" r=\"3\"/><text class=\"lab lft\" transform=\"translate(-3 -7.0)\"/></g><path class=\"edge\" d=\"M 0 0 V -93.7615 H -88.1836\"/><circle class=\"sym\" cx=\"0\" cy=\"0\" r=\"3\"/><text class=\"lab rgt\" transform=\"translate(3 -7.0)\"/></g><path class=\"edge\" d=\"M 0 0 V -108.977 H 69.873\"/><circle class=\"sym\" cx=\"0\" cy=\"0\" r=\"3\"/><text class=\"lab lft\" transform=\"translate(-3 -7.0)\"/></g><g class=\"a55715 c2 i66839 node n7671 p2\" transform=\"translate(69.873 296.186)\"><g class=\"a7671 i71570 leaf node n17 p2 sample\" transform=\"translate(-7.5 19.0582)\"><path class=\"edge\" d=\"M 0 0 V -19.0582 H 7.5\"/><rect class=\"sym\" height=\"6\" width=\"6\" x=\"-3\" y=\"-3\"/><text class=\"lab\" transform=\"translate(0 11)\"/></g><g class=\"a7671 i74444 leaf node n32 p2 sample\" transform=\"translate(7.5 42.5868)\"><path class=\"edge\" d=\"M 0 0 V -42.5868 H -7.5\"/><rect class=\"sym\" height=\"6\" width=\"6\" x=\"-3\" y=\"-3\"/><text class=\"lab\" transform=\"translate(0 11)\"/></g><path class=\"edge\" d=\"M 0 0 V -296.186 H -69.873\"/><circle class=\"sym\" cx=\"0\" cy=\"0\" r=\"3\"/><text class=\"lab rgt\" transform=\"translate(3 -7.0)\"/></g><circle class=\"sym\" cx=\"0\" cy=\"0\" r=\"3\"/><text class=\"lab\" transform=\"translate(0 -11)\"/></g><g class=\"c2 i39683 node n34863 p0 root\" transform=\"translate(655.625 219.891)\"><g class=\"a34863 i64744 leaf node n2 p0 sample\" transform=\"translate(16.875 96.0359)\"><path class=\"edge\" d=\"M 0 0 V -96.0359 H -16.875\"/><rect class=\"sym\" height=\"6\" width=\"6\" x=\"-3\" y=\"-3\"/><text class=\"lab\" transform=\"translate(0 11)\"/></g><g class=\"a34863 c2 i48775 node n25764 p0\" transform=\"translate(-16.875 42.7044)\"><g class=\"a25764 i52869 leaf node n0 p0 sample\" transform=\"translate(-11.25 14.1172)\"><path class=\"edge\" d=\"M 0 0 V -14.1172 H 11.25\"/><rect class=\"sym\" height=\"6\" width=\"6\" x=\"-3\" y=\"-3\"/><text class=\"lab\" transform=\"translate(0 11)\"/></g><g class=\"a25764 c2 i50210 node n24324 p0\" transform=\"translate(11.25 5.45079)\"><g class=\"a24324 i52869 leaf node n1 p0 sample\" transform=\"translate(-7.5 8.66637)\"><path class=\"edge\" d=\"M 0 0 V -8.66637 H 7.5\"/><rect class=\"sym\" height=\"6\" width=\"6\" x=\"-3\" y=\"-3\"/><text class=\"lab\" transform=\"translate(0 11)\"/></g><g class=\"a24324 i64744 leaf node n3 p0 sample\" transform=\"translate(7.5 47.8807)\"><path class=\"edge\" d=\"M 0 0 V -47.8807 H -7.5\"/><rect class=\"sym\" height=\"6\" width=\"6\" x=\"-3\" y=\"-3\"/><text class=\"lab\" transform=\"translate(0 11)\"/></g><path class=\"edge\" d=\"M 0 0 V -5.45079 H -11.25\"/><circle class=\"sym\" cx=\"0\" cy=\"0\" r=\"3\"/><text class=\"lab rgt\" transform=\"translate(3 -7.0)\"/></g><path class=\"edge\" d=\"M 0 0 V -42.7044 H 16.875\"/><circle class=\"sym\" cx=\"0\" cy=\"0\" r=\"3\"/><text class=\"lab lft\" transform=\"translate(-3 -7.0)\"/></g><circle class=\"sym\" cx=\"0\" cy=\"0\" r=\"3\"/><text class=\"lab\" transform=\"translate(0 -11)\"/></g></g></g></svg>"
      ],
      "text/plain": [
       "<IPython.core.display.SVG object>"
      ]
     },
     "metadata": {},
     "output_type": "display_data"
    }
   ],
   "source": [
    "plot_tree(ts_small.at(8e6), populations)"
   ]
  },
  {
   "cell_type": "markdown",
   "metadata": {},
   "source": [
    "Similarly, let's pick a region where some individuals do appear to carry Neanderthal ancestry -- there seems to be a region like that right at the beginning of the chromosome. Let's plot the genealogy of that region:"
   ]
  },
  {
   "cell_type": "code",
   "execution_count": 21,
   "metadata": {},
   "outputs": [
    {
     "name": "stdout",
     "output_type": "stream",
     "text": [
      "\".node.p0 > .sym {fill: red}\" applies to nodes from population NEA (id 0)\n",
      "\".node.p1 > .sym {fill: black}\" applies to nodes from population AFR (id 1)\n",
      "\".node.p2 > .sym {fill: blue}\" applies to nodes from population EUR1 (id 2)\n",
      "\".node.p3 > .sym {fill: green}\" applies to nodes from population EUR2 (id 3)\n",
      "CSS string applied:\n",
      "    \".node.p0 > .sym {fill: red} .node.p1 > .sym {fill: black} .node.p2 > .sym {fill: blue} .node.p3 > .sym {fill: green}\"\n"
     ]
    },
    {
     "data": {
      "image/svg+xml": [
       "<svg xmlns=\"http://www.w3.org/2000/svg\" xmlns:ev=\"http://www.w3.org/2001/xml-events\" xmlns:xlink=\"http://www.w3.org/1999/xlink\" baseProfile=\"full\" height=\"400\" version=\"1.1\" width=\"700\"><defs><style type=\"text/css\"><![CDATA[.background path {fill: #808080; fill-opacity: 0}.background path:nth-child(odd) {fill-opacity: .1}.axes {font-size: 14px}.x-axis .tick .lab {font-weight: bold; dominant-baseline: hanging}.axes, .tree {font-size: 14px; text-anchor: middle}.axes line, .edge {stroke: black; fill: none}.y-axis .grid {stroke: #FAFAFA}.node > .sym {fill: black; stroke: none}.site > .sym {stroke: black}.mut text {fill: red; font-style: italic}.mut.extra text {fill: hotpink}.mut line {fill: none; stroke: none}.mut .sym {fill: none; stroke: red}.mut.extra .sym {stroke: hotpink}.node .mut .sym {stroke-width: 1.5px}.tree text, .tree-sequence text {dominant-baseline: central}.plotbox .lab.lft {text-anchor: end}.plotbox .lab.rgt {text-anchor: start}.node.p0 > .sym {fill: red} .node.p1 > .sym {fill: black} .node.p2 > .sym {fill: blue} .node.p3 > .sym {fill: green}]]></style></defs><g class=\"tree t0\"><g class=\"plotbox\"><g class=\"c2 i42022 node n32520 p0 root\" transform=\"translate(93.3594 307.5)\"><g class=\"a32520 i64744 leaf node n2 p0 sample\" transform=\"translate(39.1406 37.2874)\"><path class=\"edge\" d=\"M 0 0 V -37.2874 H -39.1406\"/><rect class=\"sym\" height=\"6\" width=\"6\" x=\"-3\" y=\"-3\"/><text class=\"lab\" transform=\"translate(0 11)\"/></g><g class=\"a32520 c2 i43270 node n31269 p0\" transform=\"translate(-39.1406 2.72235)\"><g class=\"a31269 c2 i58078 node n16440 p0\" transform=\"translate(19.2188 25.9413)\"><g class=\"a16440 i64744 leaf node n3 p0 sample\" transform=\"translate(-15.9375 8.6237)\"><path class=\"edge\" d=\"M 0 0 V -8.6237 H 15.9375\"/><rect class=\"sym\" height=\"6\" width=\"6\" x=\"-3\" y=\"-3\"/><text class=\"lab\" transform=\"translate(0 11)\"/></g><g class=\"a16440 c2 i67757 node n6764 p3\" transform=\"translate(15.9375 13.278)\"><g class=\"a6764 i71035 leaf node n19 p3 sample\" transform=\"translate(-16.875 5.88378)\"><path class=\"edge\" d=\"M 0 0 V -5.88378 H 16.875\"/><rect class=\"sym\" height=\"6\" width=\"6\" x=\"-3\" y=\"-3\"/><text class=\"lab\" transform=\"translate(0 11)\"/></g><g class=\"a6764 c2 i72418 node n2100 p3\" transform=\"translate(16.875 9.08035)\"><g class=\"a2100 i18 leaf node n43 p3 sample\" transform=\"translate(11.25 9.67751)\"><path class=\"edge\" d=\"M 0 0 V -9.67751 H -11.25\"/><rect class=\"sym\" height=\"6\" width=\"6\" x=\"-3\" y=\"-3\"/><text class=\"lab\" transform=\"translate(0 11)\"/></g><g class=\"a2100 c2 i72970 node n1554 p3\" transform=\"translate(-11.25 1.4929)\"><g class=\"a1554 i19 leaf node n29 p3 sample\" transform=\"translate(-7.5 8.18461)\"><path class=\"edge\" d=\"M 0 0 V -8.18461 H 7.5\"/><rect class=\"sym\" height=\"6\" width=\"6\" x=\"-3\" y=\"-3\"/><text class=\"lab\" transform=\"translate(0 11)\"/></g><g class=\"a1554 i23 leaf node n41 p3 sample\" transform=\"translate(7.5 8.18461)\"><path class=\"edge\" d=\"M 0 0 V -8.18461 H -7.5\"/><rect class=\"sym\" height=\"6\" width=\"6\" x=\"-3\" y=\"-3\"/><text class=\"lab\" transform=\"translate(0 11)\"/></g><path class=\"edge\" d=\"M 0 0 V -1.4929 H 11.25\"/><circle class=\"sym\" cx=\"0\" cy=\"0\" r=\"3\"/><text class=\"lab lft\" transform=\"translate(-3 -7.0)\"/></g><path class=\"edge\" d=\"M 0 0 V -9.08035 H -16.875\"/><circle class=\"sym\" cx=\"0\" cy=\"0\" r=\"3\"/><text class=\"lab rgt\" transform=\"translate(3 -7.0)\"/></g><path class=\"edge\" d=\"M 0 0 V -13.278 H -15.9375\"/><circle class=\"sym\" cx=\"0\" cy=\"0\" r=\"3\"/><text class=\"lab rgt\" transform=\"translate(3 -7.0)\"/></g><path class=\"edge\" d=\"M 0 0 V -25.9413 H -19.2188\"/><circle class=\"sym\" cx=\"0\" cy=\"0\" r=\"3\"/><text class=\"lab rgt\" transform=\"translate(3 -7.0)\"/></g><g class=\"a31269 c2 i52674 node n21852 p0\" transform=\"translate(-19.2188 16.7029)\"><g class=\"a21852 i52869 leaf node n0 p0 sample\" transform=\"translate(-7.5 0.29858)\"><path class=\"edge\" d=\"M 0 0 V -0.29858 H 7.5\"/><rect class=\"sym\" height=\"6\" width=\"6\" x=\"-3\" y=\"-3\"/><text class=\"lab\" transform=\"translate(0 11)\"/></g><g class=\"a21852 i52869 leaf node n1 p0 sample\" transform=\"translate(7.5 0.29858)\"><path class=\"edge\" d=\"M 0 0 V -0.29858 H -7.5\"/><rect class=\"sym\" height=\"6\" width=\"6\" x=\"-3\" y=\"-3\"/><text class=\"lab\" transform=\"translate(0 11)\"/></g><path class=\"edge\" d=\"M 0 0 V -16.7029 H 19.2188\"/><circle class=\"sym\" cx=\"0\" cy=\"0\" r=\"3\"/><text class=\"lab lft\" transform=\"translate(-3 -7.0)\"/></g><path class=\"edge\" d=\"M 0 0 V -2.72235 H 39.1406\"/><circle class=\"sym\" cx=\"0\" cy=\"0\" r=\"3\"/><text class=\"lab lft\" transform=\"translate(-3 -7.0)\"/></g><circle class=\"sym\" cx=\"0\" cy=\"0\" r=\"3\"/><text class=\"lab\" transform=\"translate(0 -11)\"/></g><g class=\"c2 i32892 node n41669 p1 root\" transform=\"translate(401.738 281.787)\"><g class=\"a41669 c2 i39856 node n34701 p1\" transform=\"translate(-81.3867 20.4088)\"><g class=\"a34701 c2 i42989 node n31567 p1\" transform=\"translate(85.8984 7.42938)\"><g class=\"a31567 i65555 leaf node n26 p2 sample\" transform=\"translate(26.25 36.3214)\"><path class=\"edge\" d=\"M 0 0 V -36.3214 H -26.25\"/><rect class=\"sym\" height=\"6\" width=\"6\" x=\"-3\" y=\"-3\"/><text class=\"lab\" transform=\"translate(0 11)\"/></g><g class=\"a31567 c2 i45115 node n29435 p1\" transform=\"translate(-26.25 4.49627)\"><g class=\"a29435 c2 i74118 node n401 p2\" transform=\"translate(30 50.2317)\"><g class=\"a401 i12 leaf node n20 p2 sample\" transform=\"translate(-7.5 3.84641)\"><path class=\"edge\" d=\"M 0 0 V -3.84641 H 7.5\"/><rect class=\"sym\" height=\"6\" width=\"6\" x=\"-3\" y=\"-3\"/><text class=\"lab\" transform=\"translate(0 11)\"/></g><g class=\"a401 i74444 leaf node n32 p2 sample\" transform=\"translate(7.5 2.66966)\"><path class=\"edge\" d=\"M 0 0 V -2.66966 H -7.5\"/><rect class=\"sym\" height=\"6\" width=\"6\" x=\"-3\" y=\"-3\"/><text class=\"lab\" transform=\"translate(0 11)\"/></g><path class=\"edge\" d=\"M 0 0 V -50.2317 H -30\"/><circle class=\"sym\" cx=\"0\" cy=\"0\" r=\"3\"/><text class=\"lab rgt\" transform=\"translate(3 -7.0)\"/></g><g class=\"a29435 c2 i48980 node n25558 p1\" transform=\"translate(-30 7.1308)\"><g class=\"a25558 c2 i63299 node n11210 p2\" transform=\"translate(26.25 21.3397)\"><g class=\"a11210 i74334 leaf node n28 p2 sample\" transform=\"translate(11.25 23.2717)\"><path class=\"edge\" d=\"M 0 0 V -23.2717 H -11.25\"/><rect class=\"sym\" height=\"6\" width=\"6\" x=\"-3\" y=\"-3\"/><text class=\"lab\" transform=\"translate(0 11)\"/></g><g class=\"a11210 c2 i70342 node n4171 p2\" transform=\"translate(-11.25 11.3636)\"><g class=\"a4171 i74334 leaf node n27 p2 sample\" transform=\"translate(-7.5 11.9081)\"><path class=\"edge\" d=\"M 0 0 V -11.9081 H 7.5\"/><rect class=\"sym\" height=\"6\" width=\"6\" x=\"-3\" y=\"-3\"/><text class=\"lab\" transform=\"translate(0 11)\"/></g><g class=\"a4171 i72532 leaf node n34 p2 sample\" transform=\"translate(7.5 4.88266)\"><path class=\"edge\" d=\"M 0 0 V -4.88266 H -7.5\"/><rect class=\"sym\" height=\"6\" width=\"6\" x=\"-3\" y=\"-3\"/><text class=\"lab\" transform=\"translate(0 11)\"/></g><path class=\"edge\" d=\"M 0 0 V -11.3636 H 11.25\"/><circle class=\"sym\" cx=\"0\" cy=\"0\" r=\"3\"/><text class=\"lab lft\" transform=\"translate(-3 -7.0)\"/></g><path class=\"edge\" d=\"M 0 0 V -21.3397 H -26.25\"/><circle class=\"sym\" cx=\"0\" cy=\"0\" r=\"3\"/><text class=\"lab rgt\" transform=\"translate(3 -7.0)\"/></g><g class=\"a25558 c2 i53753 node n20789 p2\" transform=\"translate(-26.25 7.69283)\"><g class=\"a20789 i71570 leaf node n17 p2 sample\" transform=\"translate(-11.25 27.5396)\"><path class=\"edge\" d=\"M 0 0 V -27.5396 H 11.25\"/><rect class=\"sym\" height=\"6\" width=\"6\" x=\"-3\" y=\"-3\"/><text class=\"lab\" transform=\"translate(0 11)\"/></g><g class=\"a20789 c2 i61940 node n12576 p2\" transform=\"translate(11.25 12.0661)\"><g class=\"a12576 i13 leaf node n36 p2 sample\" transform=\"translate(-7.5 27.1884)\"><path class=\"edge\" d=\"M 0 0 V -27.1884 H 7.5\"/><rect class=\"sym\" height=\"6\" width=\"6\" x=\"-3\" y=\"-3\"/><text class=\"lab\" transform=\"translate(0 11)\"/></g><g class=\"a12576 i70737 leaf node n42 p2 sample\" transform=\"translate(7.5 13.7171)\"><path class=\"edge\" d=\"M 0 0 V -13.7171 H -7.5\"/><rect class=\"sym\" height=\"6\" width=\"6\" x=\"-3\" y=\"-3\"/><text class=\"lab\" transform=\"translate(0 11)\"/></g><path class=\"edge\" d=\"M 0 0 V -12.0661 H -11.25\"/><circle class=\"sym\" cx=\"0\" cy=\"0\" r=\"3\"/><text class=\"lab rgt\" transform=\"translate(3 -7.0)\"/></g><path class=\"edge\" d=\"M 0 0 V -7.69283 H 26.25\"/><circle class=\"sym\" cx=\"0\" cy=\"0\" r=\"3\"/><text class=\"lab lft\" transform=\"translate(-3 -7.0)\"/></g><path class=\"edge\" d=\"M 0 0 V -7.1308 H 30\"/><circle class=\"sym\" cx=\"0\" cy=\"0\" r=\"3\"/><text class=\"lab lft\" transform=\"translate(-3 -7.0)\"/></g><path class=\"edge\" d=\"M 0 0 V -4.49627 H 26.25\"/><circle class=\"sym\" cx=\"0\" cy=\"0\" r=\"3\"/><text class=\"lab lft\" transform=\"translate(-3 -7.0)\"/></g><path class=\"edge\" d=\"M 0 0 V -7.42938 H -85.8984\"/><circle class=\"sym\" cx=\"0\" cy=\"0\" r=\"3\"/><text class=\"lab rgt\" transform=\"translate(3 -7.0)\"/></g><g class=\"a34701 c2 i42459 node n32092 p1\" transform=\"translate(-85.8984 6.25262)\"><g class=\"a32092 c2 i64651 node n9868 p3\" transform=\"translate(46.1719 36.1984)\"><g class=\"a9868 i16 leaf node n40 p3 sample\" transform=\"translate(16.875 23.5527)\"><path class=\"edge\" d=\"M 0 0 V -23.5527 H -16.875\"/><rect class=\"sym\" height=\"6\" width=\"6\" x=\"-3\" y=\"-3\"/><text class=\"lab\" transform=\"translate(0 11)\"/></g><g class=\"a9868 c2 i66901 node n7612 p3\" transform=\"translate(-16.875 3.40733)\"><g class=\"a7612 i67060 leaf node n24 p3 sample\" transform=\"translate(-11.25 0.245889)\"><path class=\"edge\" d=\"M 0 0 V -0.245889 H 11.25\"/><rect class=\"sym\" height=\"6\" width=\"6\" x=\"-3\" y=\"-3\"/><text class=\"lab\" transform=\"translate(0 11)\"/></g><g class=\"a7612 c2 i68495 node n6021 p3\" transform=\"translate(11.25 2.68722)\"><g class=\"a6021 i17 leaf node n31 p3 sample\" transform=\"translate(-7.5 17.4582)\"><path class=\"edge\" d=\"M 0 0 V -17.4582 H 7.5\"/><rect class=\"sym\" height=\"6\" width=\"6\" x=\"-3\" y=\"-3\"/><text class=\"lab\" transform=\"translate(0 11)\"/></g><g class=\"a6021 i74181 leaf node n37 p3 sample\" transform=\"translate(7.5 13.9454)\"><path class=\"edge\" d=\"M 0 0 V -13.9454 H -7.5\"/><rect class=\"sym\" height=\"6\" width=\"6\" x=\"-3\" y=\"-3\"/><text class=\"lab\" transform=\"translate(0 11)\"/></g><path class=\"edge\" d=\"M 0 0 V -2.68722 H -11.25\"/><circle class=\"sym\" cx=\"0\" cy=\"0\" r=\"3\"/><text class=\"lab rgt\" transform=\"translate(3 -7.0)\"/></g><path class=\"edge\" d=\"M 0 0 V -3.40733 H 16.875\"/><circle class=\"sym\" cx=\"0\" cy=\"0\" r=\"3\"/><text class=\"lab lft\" transform=\"translate(-3 -7.0)\"/></g><path class=\"edge\" d=\"M 0 0 V -36.1984 H -46.1719\"/><circle class=\"sym\" cx=\"0\" cy=\"0\" r=\"3\"/><text class=\"lab rgt\" transform=\"translate(3 -7.0)\"/></g><g class=\"a32092 c2 i47057 node n27482 p1\" transform=\"translate(-46.1719 9.39649)\"><g class=\"a27482 c2 i69199 node n5301 p1\" transform=\"translate(-33.2812 34.1084)\"><g class=\"a5301 i8 leaf node n5 p1 sample\" transform=\"translate(-7.5 16.2463)\"><path class=\"edge\" d=\"M 0 0 V -16.2463 H 7.5\"/><rect class=\"sym\" height=\"6\" width=\"6\" x=\"-3\" y=\"-3\"/><text class=\"lab\" transform=\"translate(0 11)\"/></g><g class=\"a5301 i3 leaf node n7 p1 sample\" transform=\"translate(7.5 16.2463)\"><path class=\"edge\" d=\"M 0 0 V -16.2463 H -7.5\"/><rect class=\"sym\" height=\"6\" width=\"6\" x=\"-3\" y=\"-3\"/><text class=\"lab\" transform=\"translate(0 11)\"/></g><path class=\"edge\" d=\"M 0 0 V -34.1084 H 33.2812\"/><circle class=\"sym\" cx=\"0\" cy=\"0\" r=\"3\"/><text class=\"lab lft\" transform=\"translate(-3 -7.0)\"/></g><g class=\"a27482 c2 i61703 node n12815 p2\" transform=\"translate(33.2812 22.938)\"><g class=\"a12815 i72060 leaf node n25 p2 sample\" transform=\"translate(15.9375 16.8786)\"><path class=\"edge\" d=\"M 0 0 V -16.8786 H -15.9375\"/><rect class=\"sym\" height=\"6\" width=\"6\" x=\"-3\" y=\"-3\"/><text class=\"lab\" transform=\"translate(0 11)\"/></g><g class=\"a12815 c2 i66108 node n8407 p2\" transform=\"translate(-15.9375 5.98917)\"><g class=\"a8407 i10 leaf node n39 p2 sample\" transform=\"translate(16.875 21.4275)\"><path class=\"edge\" d=\"M 0 0 V -21.4275 H -16.875\"/><rect class=\"sym\" height=\"6\" width=\"6\" x=\"-3\" y=\"-3\"/><text class=\"lab\" transform=\"translate(0 11)\"/></g><g class=\"a8407 c2 i66675 node n7835 p2\" transform=\"translate(-16.875 0.913304)\"><g class=\"a7835 i66679 leaf node n14 p2 sample\" transform=\"translate(-11.25 0.0175635)\"><path class=\"edge\" d=\"M 0 0 V -0.0175635 H 11.25\"/><rect class=\"sym\" height=\"6\" width=\"6\" x=\"-3\" y=\"-3\"/><text class=\"lab\" transform=\"translate(0 11)\"/></g><g class=\"a7835 c2 i71040 node n3474 p2\" transform=\"translate(11.25 7.64014)\"><g class=\"a3474 i74180 leaf node n16 p2 sample\" transform=\"translate(-7.5 9.36136)\"><path class=\"edge\" d=\"M 0 0 V -9.36136 H 7.5\"/><rect class=\"sym\" height=\"6\" width=\"6\" x=\"-3\" y=\"-3\"/><text class=\"lab\" transform=\"translate(0 11)\"/></g><g class=\"a3474 i14 leaf node n23 p2 sample\" transform=\"translate(7.5 12.8741)\"><path class=\"edge\" d=\"M 0 0 V -12.8741 H -7.5\"/><rect class=\"sym\" height=\"6\" width=\"6\" x=\"-3\" y=\"-3\"/><text class=\"lab\" transform=\"translate(0 11)\"/></g><path class=\"edge\" d=\"M 0 0 V -7.64014 H -11.25\"/><circle class=\"sym\" cx=\"0\" cy=\"0\" r=\"3\"/><text class=\"lab rgt\" transform=\"translate(3 -7.0)\"/></g><path class=\"edge\" d=\"M 0 0 V -0.913304 H 16.875\"/><circle class=\"sym\" cx=\"0\" cy=\"0\" r=\"3\"/><text class=\"lab lft\" transform=\"translate(-3 -7.0)\"/></g><path class=\"edge\" d=\"M 0 0 V -5.98917 H 15.9375\"/><circle class=\"sym\" cx=\"0\" cy=\"0\" r=\"3\"/><text class=\"lab lft\" transform=\"translate(-3 -7.0)\"/></g><path class=\"edge\" d=\"M 0 0 V -22.938 H -33.2812\"/><circle class=\"sym\" cx=\"0\" cy=\"0\" r=\"3\"/><text class=\"lab rgt\" transform=\"translate(3 -7.0)\"/></g><path class=\"edge\" d=\"M 0 0 V -9.39649 H 46.1719\"/><circle class=\"sym\" cx=\"0\" cy=\"0\" r=\"3\"/><text class=\"lab lft\" transform=\"translate(-3 -7.0)\"/></g><path class=\"edge\" d=\"M 0 0 V -6.25262 H 85.8984\"/><circle class=\"sym\" cx=\"0\" cy=\"0\" r=\"3\"/><text class=\"lab lft\" transform=\"translate(-3 -7.0)\"/></g><path class=\"edge\" d=\"M 0 0 V -20.4088 H 81.3867\"/><circle class=\"sym\" cx=\"0\" cy=\"0\" r=\"3\"/><text class=\"lab lft\" transform=\"translate(-3 -7.0)\"/></g><g class=\"a41669 c2 i36212 node n38350 p1\" transform=\"translate(81.3867 10.4503)\"><g class=\"a38350 c2 i68237 node n6277 p3\" transform=\"translate(16.875 58.0475)\"><g class=\"a6277 i24 leaf node n18 p3 sample\" transform=\"translate(-7.5 17.9148)\"><path class=\"edge\" d=\"M 0 0 V -17.9148 H 7.5\"/><rect class=\"sym\" height=\"6\" width=\"6\" x=\"-3\" y=\"-3\"/><text class=\"lab\" transform=\"translate(0 11)\"/></g><g class=\"a6277 i15 leaf node n30 p3 sample\" transform=\"translate(7.5 17.9148)\"><path class=\"edge\" d=\"M 0 0 V -17.9148 H -7.5\"/><rect class=\"sym\" height=\"6\" width=\"6\" x=\"-3\" y=\"-3\"/><text class=\"lab\" transform=\"translate(0 11)\"/></g><path class=\"edge\" d=\"M 0 0 V -58.0475 H -16.875\"/><circle class=\"sym\" cx=\"0\" cy=\"0\" r=\"3\"/><text class=\"lab rgt\" transform=\"translate(3 -7.0)\"/></g><g class=\"a38350 c2 i37684 node n36877 p1\" transform=\"translate(-16.875 4.14499)\"><g class=\"a36877 i11 leaf node n35 p2 sample\" transform=\"translate(11.25 71.8173)\"><path class=\"edge\" d=\"M 0 0 V -71.8173 H -11.25\"/><rect class=\"sym\" height=\"6\" width=\"6\" x=\"-3\" y=\"-3\"/><text class=\"lab\" transform=\"translate(0 11)\"/></g><g class=\"a36877 c2 i61335 node n13182 p2\" transform=\"translate(-11.25 44.0142)\"><g class=\"a13182 i22 leaf node n15 p3 sample\" transform=\"translate(-7.5 27.8031)\"><path class=\"edge\" d=\"M 0 0 V -27.8031 H 7.5\"/><rect class=\"sym\" height=\"6\" width=\"6\" x=\"-3\" y=\"-3\"/><text class=\"lab\" transform=\"translate(0 11)\"/></g><g class=\"a13182 i69452 leaf node n22 p3 sample\" transform=\"translate(7.5 11.9959)\"><path class=\"edge\" d=\"M 0 0 V -11.9959 H -7.5\"/><rect class=\"sym\" height=\"6\" width=\"6\" x=\"-3\" y=\"-3\"/><text class=\"lab\" transform=\"translate(0 11)\"/></g><path class=\"edge\" d=\"M 0 0 V -44.0142 H 11.25\"/><circle class=\"sym\" cx=\"0\" cy=\"0\" r=\"3\"/><text class=\"lab lft\" transform=\"translate(-3 -7.0)\"/></g><path class=\"edge\" d=\"M 0 0 V -4.14499 H 16.875\"/><circle class=\"sym\" cx=\"0\" cy=\"0\" r=\"3\"/><text class=\"lab lft\" transform=\"translate(-3 -7.0)\"/></g><path class=\"edge\" d=\"M 0 0 V -10.4503 H -81.3867\"/><circle class=\"sym\" cx=\"0\" cy=\"0\" r=\"3\"/><text class=\"lab rgt\" transform=\"translate(3 -7.0)\"/></g><circle class=\"sym\" cx=\"0\" cy=\"0\" r=\"3\"/><text class=\"lab\" transform=\"translate(0 -11)\"/></g><g class=\"c2 i653 node n73915 p1 root\" transform=\"translate(632.422 26.8)\"><g class=\"a73915 c2 i59967 node n14556 p2\" transform=\"translate(28.8281 311.928)\"><g class=\"a14556 i72751 leaf node n33 p2 sample\" transform=\"translate(11.25 20.6898)\"><path class=\"edge\" d=\"M 0 0 V -20.6898 H -11.25\"/><rect class=\"sym\" height=\"6\" width=\"6\" x=\"-3\" y=\"-3\"/><text class=\"lab\" transform=\"translate(0 11)\"/></g><g class=\"a14556 c2 i74121 node n394 p3\" transform=\"translate(-11.25 25.6428)\"><g class=\"a394 i21 leaf node n21 p3 sample\" transform=\"translate(-7.5 3.82885)\"><path class=\"edge\" d=\"M 0 0 V -3.82885 H 7.5\"/><rect class=\"sym\" height=\"6\" width=\"6\" x=\"-3\" y=\"-3\"/><text class=\"lab\" transform=\"translate(0 11)\"/></g><g class=\"a394 i20 leaf node n38 p3 sample\" transform=\"translate(7.5 3.82885)\"><path class=\"edge\" d=\"M 0 0 V -3.82885 H -7.5\"/><rect class=\"sym\" height=\"6\" width=\"6\" x=\"-3\" y=\"-3\"/><text class=\"lab\" transform=\"translate(0 11)\"/></g><path class=\"edge\" d=\"M 0 0 V -25.6428 H 11.25\"/><circle class=\"sym\" cx=\"0\" cy=\"0\" r=\"3\"/><text class=\"lab lft\" transform=\"translate(-3 -7.0)\"/></g><path class=\"edge\" d=\"M 0 0 V -311.928 H -28.8281\"/><circle class=\"sym\" cx=\"0\" cy=\"0\" r=\"3\"/><text class=\"lab rgt\" transform=\"translate(3 -7.0)\"/></g><g class=\"a73915 c2 i3353 node n71214 p1\" transform=\"translate(-28.8281 39.6058)\"><g class=\"a71214 i1 leaf node n11 p1 sample\" transform=\"translate(23.9062 301.794)\"><path class=\"edge\" d=\"M 0 0 V -301.794 H -23.9062\"/><rect class=\"sym\" height=\"6\" width=\"6\" x=\"-3\" y=\"-3\"/><text class=\"lab\" transform=\"translate(0 11)\"/></g><g class=\"a71214 c2 i23933 node n50628 p1\" transform=\"translate(-23.9062 178.129)\"><g class=\"a50628 c2 i71154 node n3352 p1\" transform=\"translate(25.3125 111.054)\"><g class=\"a3352 i7 leaf node n6 p1 sample\" transform=\"translate(-7.5 12.6106)\"><path class=\"edge\" d=\"M 0 0 V -12.6106 H 7.5\"/><rect class=\"sym\" height=\"6\" width=\"6\" x=\"-3\" y=\"-3\"/><text class=\"lab\" transform=\"translate(0 11)\"/></g><g class=\"a3352 i0 leaf node n10 p1 sample\" transform=\"translate(7.5 12.6106)\"><path class=\"edge\" d=\"M 0 0 V -12.6106 H -7.5\"/><rect class=\"sym\" height=\"6\" width=\"6\" x=\"-3\" y=\"-3\"/><text class=\"lab\" transform=\"translate(0 11)\"/></g><path class=\"edge\" d=\"M 0 0 V -111.054 H -25.3125\"/><circle class=\"sym\" cx=\"0\" cy=\"0\" r=\"3\"/><text class=\"lab rgt\" transform=\"translate(3 -7.0)\"/></g><g class=\"a50628 c2 i39549 node n35008 p1\" transform=\"translate(-25.3125 56.9059)\"><g class=\"a35008 c2 i67822 node n6688 p1\" transform=\"translate(-20.625 48.1241)\"><g class=\"a6688 i9 leaf node n4 p1 sample\" transform=\"translate(-11.25 18.6349)\"><path class=\"edge\" d=\"M 0 0 V -18.6349 H 11.25\"/><rect class=\"sym\" height=\"6\" width=\"6\" x=\"-3\" y=\"-3\"/><text class=\"lab\" transform=\"translate(0 11)\"/></g><g class=\"a6688 c2 i73929 node n586 p1\" transform=\"translate(11.25 13.9981)\"><g class=\"a586 i5 leaf node n9 p1 sample\" transform=\"translate(-7.5 4.63677)\"><path class=\"edge\" d=\"M 0 0 V -4.63677 H 7.5\"/><rect class=\"sym\" height=\"6\" width=\"6\" x=\"-3\" y=\"-3\"/><text class=\"lab\" transform=\"translate(0 11)\"/></g><g class=\"a586 i2 leaf node n13 p1 sample\" transform=\"translate(7.5 4.63677)\"><path class=\"edge\" d=\"M 0 0 V -4.63677 H -7.5\"/><rect class=\"sym\" height=\"6\" width=\"6\" x=\"-3\" y=\"-3\"/><text class=\"lab\" transform=\"translate(0 11)\"/></g><path class=\"edge\" d=\"M 0 0 V -13.9981 H -11.25\"/><circle class=\"sym\" cx=\"0\" cy=\"0\" r=\"3\"/><text class=\"lab rgt\" transform=\"translate(3 -7.0)\"/></g><path class=\"edge\" d=\"M 0 0 V -48.1241 H 20.625\"/><circle class=\"sym\" cx=\"0\" cy=\"0\" r=\"3\"/><text class=\"lab lft\" transform=\"translate(-3 -7.0)\"/></g><g class=\"a35008 c2 i63313 node n11193 p1\" transform=\"translate(20.625 41.1689)\"><g class=\"a11193 i4 leaf node n8 p1 sample\" transform=\"translate(-7.5 25.5901)\"><path class=\"edge\" d=\"M 0 0 V -25.5901 H 7.5\"/><rect class=\"sym\" height=\"6\" width=\"6\" x=\"-3\" y=\"-3\"/><text class=\"lab\" transform=\"translate(0 11)\"/></g><g class=\"a11193 i6 leaf node n12 p1 sample\" transform=\"translate(7.5 25.5901)\"><path class=\"edge\" d=\"M 0 0 V -25.5901 H -7.5\"/><rect class=\"sym\" height=\"6\" width=\"6\" x=\"-3\" y=\"-3\"/><text class=\"lab\" transform=\"translate(0 11)\"/></g><path class=\"edge\" d=\"M 0 0 V -41.1689 H -20.625\"/><circle class=\"sym\" cx=\"0\" cy=\"0\" r=\"3\"/><text class=\"lab rgt\" transform=\"translate(3 -7.0)\"/></g><path class=\"edge\" d=\"M 0 0 V -56.9059 H 25.3125\"/><circle class=\"sym\" cx=\"0\" cy=\"0\" r=\"3\"/><text class=\"lab lft\" transform=\"translate(-3 -7.0)\"/></g><path class=\"edge\" d=\"M 0 0 V -178.129 H 23.9062\"/><circle class=\"sym\" cx=\"0\" cy=\"0\" r=\"3\"/><text class=\"lab lft\" transform=\"translate(-3 -7.0)\"/></g><path class=\"edge\" d=\"M 0 0 V -39.6058 H 28.8281\"/><circle class=\"sym\" cx=\"0\" cy=\"0\" r=\"3\"/><text class=\"lab lft\" transform=\"translate(-3 -7.0)\"/></g><circle class=\"sym\" cx=\"0\" cy=\"0\" r=\"3\"/><text class=\"lab\" transform=\"translate(0 -11)\"/></g></g></g></svg>"
      ],
      "text/plain": [
       "<IPython.core.display.SVG object>"
      ]
     },
     "metadata": {},
     "output_type": "display_data"
    }
   ],
   "source": [
    "plot_tree(ts_small.at(0), populations)"
   ]
  },
  {
   "cell_type": "markdown",
   "metadata": {},
   "source": [
    "Great! We see a red \"Neanderthal-derived\" subtree and a bunch of green nodes (European chromosomes) that cluster within this tree. These chromosomes represent chunks of the chromosome in these individuals which actually originated in Neanderthals."
   ]
  },
  {
   "cell_type": "markdown",
   "metadata": {},
   "source": [
    "## Save output"
   ]
  },
  {
   "cell_type": "markdown",
   "metadata": {},
   "source": [
    "Before we can save the table of Neanderthal tracts, we need to assign to each node/chromosome its unique numeric SLiM id. We will need this to be able to trace those tracts for each chromosome back to the easy to read individual names we have in *slendr*:"
   ]
  },
  {
   "cell_type": "code",
   "execution_count": 22,
   "metadata": {},
   "outputs": [],
   "source": [
    "merged_segments[\"slim_id\"] = pandas.Series(ts.node(i).metadata[\"slim_id\"] for i in merged_segments.node)"
   ]
  },
  {
   "cell_type": "markdown",
   "metadata": {},
   "source": [
    "Finally, we will save the coordinates of introgressed tracts in the simulated European chromosomes in a BED-like format:"
   ]
  },
  {
   "cell_type": "code",
   "execution_count": 23,
   "metadata": {},
   "outputs": [],
   "source": [
    "merged_segments[[\"start\", \"end\", \"slim_id\"]].to_csv(\"results/tracts.tsv.gz\", sep=\"\\t\", index=False)"
   ]
  }
 ],
 "metadata": {
  "interpreter": {
   "hash": "1387966c17c46f543b5ff91b0d76c78ab283c4f67658e568c4c8be382fb93ccb"
  },
  "kernelspec": {
   "display_name": "Python 3 (ipykernel)",
   "language": "python",
   "name": "python3"
  },
  "language_info": {
   "codemirror_mode": {
    "name": "ipython",
    "version": 3
   },
   "file_extension": ".py",
   "mimetype": "text/x-python",
   "name": "python",
   "nbconvert_exporter": "python",
   "pygments_lexer": "ipython3",
   "version": "3.9.7"
  }
 },
 "nbformat": 4,
 "nbformat_minor": 4
}
